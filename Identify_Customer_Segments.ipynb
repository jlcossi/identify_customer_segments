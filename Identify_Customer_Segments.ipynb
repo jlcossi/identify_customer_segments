{
 "cells": [
  {
   "cell_type": "markdown",
   "metadata": {},
   "source": [
    "# Identify Customer Segments\n",
    "\n",
    "In this project, we will apply unsupervised learning techniques to identify segments of the population that form the core customer base for a mail-order sales company in Germany. These segments can then be used to direct marketing campaigns towards audiences that will have the highest expected rate of returns. The data that you will use has been provided by our partners at Bertelsmann Arvato Analytics, and represents a real-life data science task.   \n",
    "\n",
    "In real-life tasks, there may be many valid ways to approach an analysis task. So basically, we strive to document our approach so that other scientists can understand the decisions we've made."
   ]
  },
  {
   "cell_type": "code",
   "execution_count": 1,
   "metadata": {},
   "outputs": [],
   "source": [
    "# import required libraries \n",
    "import numpy as np\n",
    "import pandas as pd\n",
    "import matplotlib.pyplot as plt\n",
    "import seaborn as sns\n",
    "\n",
    "from sklearn.cluster import KMeans\n",
    "\n",
    "from sklearn.decomposition import PCA\n",
    "\n",
    "from sklearn.preprocessing import Imputer\n",
    "from sklearn.preprocessing import StandardScaler\n",
    "\n",
    "from IPython import display\n",
    "\n",
    "# set plots to be embedded inline\n",
    "%matplotlib inline"
   ]
  },
  {
   "cell_type": "code",
   "execution_count": 2,
   "metadata": {},
   "outputs": [],
   "source": [
    "# Enable auto complete in the notebook\n",
    "# Source : https://stackoverflow.com/questions/36101583/how-to-auto-complete-in-an-ipython-notebook-while-on-ipdb#45089021\n",
    "# Requirement : !pip install pyreadline , alreay done\n",
    "%config IPCompleter.greedy=True"
   ]
  },
  {
   "cell_type": "code",
   "execution_count": 3,
   "metadata": {},
   "outputs": [],
   "source": [
    "# Requires seaborn 0.9.0\n",
    "# ! pip install seaborn==0.9.0"
   ]
  },
  {
   "cell_type": "markdown",
   "metadata": {},
   "source": [
    "### Step 0: Load the Data\n",
    "\n",
    "There are four files associated with this project (not including this one):\n",
    "\n",
    "- `Udacity_AZDIAS_Subset.csv`: Demographics data for the general population of Germany; 891211 persons (rows) x 85 features (columns).\n",
    "- `Udacity_CUSTOMERS_Subset.csv`: Demographics data for customers of a mail-order company; 191652 persons (rows) x 85 features (columns).\n",
    "- `Data_Dictionary.md`: Detailed information file about the features in the provided datasets.\n",
    "- `AZDIAS_Feature_Summary.csv`: Summary of feature attributes for demographics data; 85 features (rows) x 4 columns\n",
    "\n",
    "Each row of the demographics files represents a single person, but also includes information outside of individuals, including information about their household, building, and neighborhood.   \n",
    "\n",
    "#### Objective\n",
    "We use this information to cluster the general population into groups with similar demographic properties. Then, we see how the people in the customers dataset fit into those created clusters. The hope here is that certain clusters are over-represented in the customers data, as compared to the general population; those over-represented clusters will be assumed to be part of the core userbase. This information can then be used for further applications, such as targeting for a marketing campaign."
   ]
  },
  {
   "cell_type": "code",
   "execution_count": 4,
   "metadata": {},
   "outputs": [],
   "source": [
    "# Load in the general demographics data.\n",
    "azdias = pd.read_csv('Udacity_AZDIAS_Subset.csv', sep=\";\")"
   ]
  },
  {
   "cell_type": "code",
   "execution_count": 5,
   "metadata": {},
   "outputs": [],
   "source": [
    "# Load in the feature summary file.\n",
    "feat_info = pd.read_csv('AZDIAS_Feature_Summary.csv', sep=\";\")"
   ]
  },
  {
   "cell_type": "code",
   "execution_count": 6,
   "metadata": {},
   "outputs": [
    {
     "data": {
      "text/plain": [
       "(891221, 85)"
      ]
     },
     "execution_count": 6,
     "metadata": {},
     "output_type": "execute_result"
    }
   ],
   "source": [
    "# Get general demographics data size\n",
    "azdias.shape"
   ]
  },
  {
   "cell_type": "code",
   "execution_count": 7,
   "metadata": {
    "scrolled": true
   },
   "outputs": [
    {
     "data": {
      "text/html": [
       "<div>\n",
       "<style scoped>\n",
       "    .dataframe tbody tr th:only-of-type {\n",
       "        vertical-align: middle;\n",
       "    }\n",
       "\n",
       "    .dataframe tbody tr th {\n",
       "        vertical-align: top;\n",
       "    }\n",
       "\n",
       "    .dataframe thead th {\n",
       "        text-align: right;\n",
       "    }\n",
       "</style>\n",
       "<table border=\"1\" class=\"dataframe\">\n",
       "  <thead>\n",
       "    <tr style=\"text-align: right;\">\n",
       "      <th></th>\n",
       "      <th>AGER_TYP</th>\n",
       "      <th>ALTERSKATEGORIE_GROB</th>\n",
       "      <th>ANREDE_KZ</th>\n",
       "      <th>CJT_GESAMTTYP</th>\n",
       "      <th>FINANZ_MINIMALIST</th>\n",
       "      <th>FINANZ_SPARER</th>\n",
       "      <th>FINANZ_VORSORGER</th>\n",
       "      <th>FINANZ_ANLEGER</th>\n",
       "      <th>FINANZ_UNAUFFAELLIGER</th>\n",
       "      <th>FINANZ_HAUSBAUER</th>\n",
       "      <th>...</th>\n",
       "      <th>PLZ8_ANTG1</th>\n",
       "      <th>PLZ8_ANTG2</th>\n",
       "      <th>PLZ8_ANTG3</th>\n",
       "      <th>PLZ8_ANTG4</th>\n",
       "      <th>PLZ8_BAUMAX</th>\n",
       "      <th>PLZ8_HHZ</th>\n",
       "      <th>PLZ8_GBZ</th>\n",
       "      <th>ARBEIT</th>\n",
       "      <th>ORTSGR_KLS9</th>\n",
       "      <th>RELAT_AB</th>\n",
       "    </tr>\n",
       "  </thead>\n",
       "  <tbody>\n",
       "    <tr>\n",
       "      <th>0</th>\n",
       "      <td>-1</td>\n",
       "      <td>2</td>\n",
       "      <td>1</td>\n",
       "      <td>2.0</td>\n",
       "      <td>3</td>\n",
       "      <td>4</td>\n",
       "      <td>3</td>\n",
       "      <td>5</td>\n",
       "      <td>5</td>\n",
       "      <td>3</td>\n",
       "      <td>...</td>\n",
       "      <td>NaN</td>\n",
       "      <td>NaN</td>\n",
       "      <td>NaN</td>\n",
       "      <td>NaN</td>\n",
       "      <td>NaN</td>\n",
       "      <td>NaN</td>\n",
       "      <td>NaN</td>\n",
       "      <td>NaN</td>\n",
       "      <td>NaN</td>\n",
       "      <td>NaN</td>\n",
       "    </tr>\n",
       "    <tr>\n",
       "      <th>1</th>\n",
       "      <td>-1</td>\n",
       "      <td>1</td>\n",
       "      <td>2</td>\n",
       "      <td>5.0</td>\n",
       "      <td>1</td>\n",
       "      <td>5</td>\n",
       "      <td>2</td>\n",
       "      <td>5</td>\n",
       "      <td>4</td>\n",
       "      <td>5</td>\n",
       "      <td>...</td>\n",
       "      <td>2.0</td>\n",
       "      <td>3.0</td>\n",
       "      <td>2.0</td>\n",
       "      <td>1.0</td>\n",
       "      <td>1.0</td>\n",
       "      <td>5.0</td>\n",
       "      <td>4.0</td>\n",
       "      <td>3.0</td>\n",
       "      <td>5.0</td>\n",
       "      <td>4.0</td>\n",
       "    </tr>\n",
       "    <tr>\n",
       "      <th>2</th>\n",
       "      <td>-1</td>\n",
       "      <td>3</td>\n",
       "      <td>2</td>\n",
       "      <td>3.0</td>\n",
       "      <td>1</td>\n",
       "      <td>4</td>\n",
       "      <td>1</td>\n",
       "      <td>2</td>\n",
       "      <td>3</td>\n",
       "      <td>5</td>\n",
       "      <td>...</td>\n",
       "      <td>3.0</td>\n",
       "      <td>3.0</td>\n",
       "      <td>1.0</td>\n",
       "      <td>0.0</td>\n",
       "      <td>1.0</td>\n",
       "      <td>4.0</td>\n",
       "      <td>4.0</td>\n",
       "      <td>3.0</td>\n",
       "      <td>5.0</td>\n",
       "      <td>2.0</td>\n",
       "    </tr>\n",
       "    <tr>\n",
       "      <th>3</th>\n",
       "      <td>2</td>\n",
       "      <td>4</td>\n",
       "      <td>2</td>\n",
       "      <td>2.0</td>\n",
       "      <td>4</td>\n",
       "      <td>2</td>\n",
       "      <td>5</td>\n",
       "      <td>2</td>\n",
       "      <td>1</td>\n",
       "      <td>2</td>\n",
       "      <td>...</td>\n",
       "      <td>2.0</td>\n",
       "      <td>2.0</td>\n",
       "      <td>2.0</td>\n",
       "      <td>0.0</td>\n",
       "      <td>1.0</td>\n",
       "      <td>3.0</td>\n",
       "      <td>4.0</td>\n",
       "      <td>2.0</td>\n",
       "      <td>3.0</td>\n",
       "      <td>3.0</td>\n",
       "    </tr>\n",
       "    <tr>\n",
       "      <th>4</th>\n",
       "      <td>-1</td>\n",
       "      <td>3</td>\n",
       "      <td>1</td>\n",
       "      <td>5.0</td>\n",
       "      <td>4</td>\n",
       "      <td>3</td>\n",
       "      <td>4</td>\n",
       "      <td>1</td>\n",
       "      <td>3</td>\n",
       "      <td>2</td>\n",
       "      <td>...</td>\n",
       "      <td>2.0</td>\n",
       "      <td>4.0</td>\n",
       "      <td>2.0</td>\n",
       "      <td>1.0</td>\n",
       "      <td>2.0</td>\n",
       "      <td>3.0</td>\n",
       "      <td>3.0</td>\n",
       "      <td>4.0</td>\n",
       "      <td>6.0</td>\n",
       "      <td>5.0</td>\n",
       "    </tr>\n",
       "  </tbody>\n",
       "</table>\n",
       "<p>5 rows × 85 columns</p>\n",
       "</div>"
      ],
      "text/plain": [
       "   AGER_TYP  ALTERSKATEGORIE_GROB  ANREDE_KZ  CJT_GESAMTTYP  \\\n",
       "0        -1                     2          1            2.0   \n",
       "1        -1                     1          2            5.0   \n",
       "2        -1                     3          2            3.0   \n",
       "3         2                     4          2            2.0   \n",
       "4        -1                     3          1            5.0   \n",
       "\n",
       "   FINANZ_MINIMALIST  FINANZ_SPARER  FINANZ_VORSORGER  FINANZ_ANLEGER  \\\n",
       "0                  3              4                 3               5   \n",
       "1                  1              5                 2               5   \n",
       "2                  1              4                 1               2   \n",
       "3                  4              2                 5               2   \n",
       "4                  4              3                 4               1   \n",
       "\n",
       "   FINANZ_UNAUFFAELLIGER  FINANZ_HAUSBAUER    ...     PLZ8_ANTG1  PLZ8_ANTG2  \\\n",
       "0                      5                 3    ...            NaN         NaN   \n",
       "1                      4                 5    ...            2.0         3.0   \n",
       "2                      3                 5    ...            3.0         3.0   \n",
       "3                      1                 2    ...            2.0         2.0   \n",
       "4                      3                 2    ...            2.0         4.0   \n",
       "\n",
       "   PLZ8_ANTG3  PLZ8_ANTG4  PLZ8_BAUMAX  PLZ8_HHZ  PLZ8_GBZ  ARBEIT  \\\n",
       "0         NaN         NaN          NaN       NaN       NaN     NaN   \n",
       "1         2.0         1.0          1.0       5.0       4.0     3.0   \n",
       "2         1.0         0.0          1.0       4.0       4.0     3.0   \n",
       "3         2.0         0.0          1.0       3.0       4.0     2.0   \n",
       "4         2.0         1.0          2.0       3.0       3.0     4.0   \n",
       "\n",
       "   ORTSGR_KLS9  RELAT_AB  \n",
       "0          NaN       NaN  \n",
       "1          5.0       4.0  \n",
       "2          5.0       2.0  \n",
       "3          3.0       3.0  \n",
       "4          6.0       5.0  \n",
       "\n",
       "[5 rows x 85 columns]"
      ]
     },
     "execution_count": 7,
     "metadata": {},
     "output_type": "execute_result"
    }
   ],
   "source": [
    "# Get a view on the general demographics data\n",
    "azdias.head()"
   ]
  },
  {
   "cell_type": "code",
   "execution_count": 8,
   "metadata": {},
   "outputs": [
    {
     "data": {
      "text/plain": [
       "(85, 4)"
      ]
     },
     "execution_count": 8,
     "metadata": {},
     "output_type": "execute_result"
    }
   ],
   "source": [
    "# Get feature summary data size\n",
    "feat_info.shape"
   ]
  },
  {
   "cell_type": "code",
   "execution_count": 9,
   "metadata": {},
   "outputs": [
    {
     "data": {
      "text/html": [
       "<div>\n",
       "<style scoped>\n",
       "    .dataframe tbody tr th:only-of-type {\n",
       "        vertical-align: middle;\n",
       "    }\n",
       "\n",
       "    .dataframe tbody tr th {\n",
       "        vertical-align: top;\n",
       "    }\n",
       "\n",
       "    .dataframe thead th {\n",
       "        text-align: right;\n",
       "    }\n",
       "</style>\n",
       "<table border=\"1\" class=\"dataframe\">\n",
       "  <thead>\n",
       "    <tr style=\"text-align: right;\">\n",
       "      <th></th>\n",
       "      <th>attribute</th>\n",
       "      <th>information_level</th>\n",
       "      <th>type</th>\n",
       "      <th>missing_or_unknown</th>\n",
       "    </tr>\n",
       "  </thead>\n",
       "  <tbody>\n",
       "    <tr>\n",
       "      <th>0</th>\n",
       "      <td>AGER_TYP</td>\n",
       "      <td>person</td>\n",
       "      <td>categorical</td>\n",
       "      <td>[-1,0]</td>\n",
       "    </tr>\n",
       "    <tr>\n",
       "      <th>1</th>\n",
       "      <td>ALTERSKATEGORIE_GROB</td>\n",
       "      <td>person</td>\n",
       "      <td>ordinal</td>\n",
       "      <td>[-1,0,9]</td>\n",
       "    </tr>\n",
       "    <tr>\n",
       "      <th>2</th>\n",
       "      <td>ANREDE_KZ</td>\n",
       "      <td>person</td>\n",
       "      <td>categorical</td>\n",
       "      <td>[-1,0]</td>\n",
       "    </tr>\n",
       "    <tr>\n",
       "      <th>3</th>\n",
       "      <td>CJT_GESAMTTYP</td>\n",
       "      <td>person</td>\n",
       "      <td>categorical</td>\n",
       "      <td>[0]</td>\n",
       "    </tr>\n",
       "    <tr>\n",
       "      <th>4</th>\n",
       "      <td>FINANZ_MINIMALIST</td>\n",
       "      <td>person</td>\n",
       "      <td>ordinal</td>\n",
       "      <td>[-1]</td>\n",
       "    </tr>\n",
       "  </tbody>\n",
       "</table>\n",
       "</div>"
      ],
      "text/plain": [
       "              attribute information_level         type missing_or_unknown\n",
       "0              AGER_TYP            person  categorical             [-1,0]\n",
       "1  ALTERSKATEGORIE_GROB            person      ordinal           [-1,0,9]\n",
       "2             ANREDE_KZ            person  categorical             [-1,0]\n",
       "3         CJT_GESAMTTYP            person  categorical                [0]\n",
       "4     FINANZ_MINIMALIST            person      ordinal               [-1]"
      ]
     },
     "execution_count": 9,
     "metadata": {},
     "output_type": "execute_result"
    }
   ],
   "source": [
    "# View on the feature summary data\n",
    "feat_info.head()"
   ]
  },
  {
   "cell_type": "code",
   "execution_count": 10,
   "metadata": {},
   "outputs": [],
   "source": [
    "# Create a copy of the original dataframes - We do cleaning on the copies\n",
    "df_azdias = azdias.copy()"
   ]
  },
  {
   "cell_type": "markdown",
   "metadata": {},
   "source": [
    "\n",
    "\n",
    "## Step 1: Preprocessing\n",
    "\n",
    "### Step 1.1: Assess Missing Data\n",
    "\n",
    "The feature summary file contains a summary of properties for each demographics data column.   \n",
    "We use this file to help you make cleaning decisions during this stage of the project. First of all, we assess the demographics data in terms of missing data. \n",
    "\n",
    "#### Step 1.1.1: Convert Missing Value Codes to NaNs\n",
    "The fourth column of the feature attributes summary (loaded in above as `feat_info`) documents the codes from the data dictionary that indicate missing or unknown data. While the file encodes this as a list (e.g. `[-1,0]`), this will get read in as a string object. We need to do a little bit of parsing to make use of it to identify and clean the data. Convert data that matches a 'missing' or 'unknown' value code into a numpy NaN value. We want to see how much data takes on a 'missing' or 'unknown' code, and how much data is naturally missing, as a point of interest."
   ]
  },
  {
   "cell_type": "code",
   "execution_count": 11,
   "metadata": {},
   "outputs": [],
   "source": [
    "# Get naturaly missing data as a dataset - for potential further use\n",
    "\n",
    "# Create a dataframe from the naturally missing data\n",
    "df_azdias_natural_missing = pd.DataFrame(data=df_azdias.isnull().sum())\n",
    "\n",
    "# Add a column index\n",
    "df_azdias_natural_missing = df_azdias_natural_missing.reset_index()\n",
    "\n",
    "# Set proper column names\n",
    "df_azdias_natural_missing.rename(columns={'index': 'column_name', 0: 'nb_of_missing'}, inplace=True)"
   ]
  },
  {
   "cell_type": "code",
   "execution_count": 12,
   "metadata": {
    "scrolled": false
   },
   "outputs": [
    {
     "data": {
      "text/html": [
       "<div>\n",
       "<style scoped>\n",
       "    .dataframe tbody tr th:only-of-type {\n",
       "        vertical-align: middle;\n",
       "    }\n",
       "\n",
       "    .dataframe tbody tr th {\n",
       "        vertical-align: top;\n",
       "    }\n",
       "\n",
       "    .dataframe thead th {\n",
       "        text-align: right;\n",
       "    }\n",
       "</style>\n",
       "<table border=\"1\" class=\"dataframe\">\n",
       "  <thead>\n",
       "    <tr style=\"text-align: right;\">\n",
       "      <th></th>\n",
       "      <th>column_name</th>\n",
       "      <th>nb_of_missing</th>\n",
       "    </tr>\n",
       "  </thead>\n",
       "  <tbody>\n",
       "    <tr>\n",
       "      <th>0</th>\n",
       "      <td>AGER_TYP</td>\n",
       "      <td>0</td>\n",
       "    </tr>\n",
       "    <tr>\n",
       "      <th>1</th>\n",
       "      <td>ALTERSKATEGORIE_GROB</td>\n",
       "      <td>0</td>\n",
       "    </tr>\n",
       "    <tr>\n",
       "      <th>2</th>\n",
       "      <td>ANREDE_KZ</td>\n",
       "      <td>0</td>\n",
       "    </tr>\n",
       "    <tr>\n",
       "      <th>3</th>\n",
       "      <td>CJT_GESAMTTYP</td>\n",
       "      <td>4854</td>\n",
       "    </tr>\n",
       "    <tr>\n",
       "      <th>4</th>\n",
       "      <td>FINANZ_MINIMALIST</td>\n",
       "      <td>0</td>\n",
       "    </tr>\n",
       "  </tbody>\n",
       "</table>\n",
       "</div>"
      ],
      "text/plain": [
       "            column_name  nb_of_missing\n",
       "0              AGER_TYP              0\n",
       "1  ALTERSKATEGORIE_GROB              0\n",
       "2             ANREDE_KZ              0\n",
       "3         CJT_GESAMTTYP           4854\n",
       "4     FINANZ_MINIMALIST              0"
      ]
     },
     "execution_count": 12,
     "metadata": {},
     "output_type": "execute_result"
    }
   ],
   "source": [
    "# Get a view of those naturally missing data\n",
    "df_azdias_natural_missing.head()"
   ]
  },
  {
   "cell_type": "code",
   "execution_count": 13,
   "metadata": {},
   "outputs": [],
   "source": [
    "# Transform \"feat_info\" last column: use list type to easily check value in it\n",
    "feat_info['missing_or_unknown'] = feat_info['missing_or_unknown'].str.strip('[]').str.split(',')"
   ]
  },
  {
   "cell_type": "code",
   "execution_count": 14,
   "metadata": {},
   "outputs": [],
   "source": [
    "# For each of the list created above, ensure to have a list of integer instead of string\n",
    "for index in feat_info.index:\n",
    "    sublist_length = len(feat_info.loc[index, 'missing_or_unknown'])\n",
    "    for indice in range(sublist_length):\n",
    "        # We could have used conversion to float before to int.\n",
    "        # But after debug, the exceptions happened only with empty strings\n",
    "        # so the error catching here is just to be able to continue\n",
    "        try:\n",
    "            feat_info.loc[index, 'missing_or_unknown'][indice] = int(feat_info.loc[index, 'missing_or_unknown'][indice])\n",
    "        except:\n",
    "            pass\n",
    "        "
   ]
  },
  {
   "cell_type": "code",
   "execution_count": 15,
   "metadata": {},
   "outputs": [],
   "source": [
    "# Define: Go through a demographics dataframe and convert codes to missing values according to a feature dictionnary\n",
    "# Code: Go trough the index of a feature attributes dataframe and get the identified columns and the associated identifiers, one by one\n",
    "# For each of the corresponding column in the demographics database, replace values by NaN if the identified exist in the column\n",
    "def missing_code_to_nan(df_demographics, df_feat_attr):\n",
    "    \n",
    "    for index in df_feat_attr.index:\n",
    "        current_column = df_feat_attr.loc[index, 'attribute']\n",
    "        missing_or_unknown = df_feat_attr.loc[index, 'missing_or_unknown']\n",
    "        df_demographics[current_column] = df_demographics[current_column].apply(lambda x: np.nan if (x in missing_or_unknown) else x)\n",
    "        \n",
    "    return df_demographics"
   ]
  },
  {
   "cell_type": "code",
   "execution_count": 16,
   "metadata": {},
   "outputs": [],
   "source": [
    "# Code: Convert missing values codes to NaNs\n",
    "df_azdias = missing_code_to_nan(df_azdias, feat_info)"
   ]
  },
  {
   "cell_type": "code",
   "execution_count": 17,
   "metadata": {},
   "outputs": [],
   "source": [
    "# Test : We use columns containing -1, 0, or 9 as missing\n",
    "# We count them in the original dataset in addition to potential existing NaN\n",
    "# Check against our new dataset after the missing value conversion to NaN\n",
    "# Testing for the column 'AGER_TYP' which contains 0, -1 converted to NaN\n",
    "assert (azdias['AGER_TYP'] == 0).sum() + (azdias['AGER_TYP'] == -1).sum() + azdias['AGER_TYP'].isnull().sum() == df_azdias['AGER_TYP'].isnull().sum()"
   ]
  },
  {
   "cell_type": "code",
   "execution_count": 18,
   "metadata": {},
   "outputs": [],
   "source": [
    "# Testing for the column 'ALTERSKATEGORIE_GROB' which contains 0, -1 and 9 converted to NaN\n",
    "assert (azdias['ALTERSKATEGORIE_GROB'] == 0).sum() + (azdias['ALTERSKATEGORIE_GROB'] == -1).sum() + (azdias['ALTERSKATEGORIE_GROB'] == 9).sum() + azdias['ALTERSKATEGORIE_GROB'].isnull().sum() == df_azdias['ALTERSKATEGORIE_GROB'].isnull().sum()"
   ]
  },
  {
   "cell_type": "code",
   "execution_count": 19,
   "metadata": {},
   "outputs": [],
   "source": [
    "# A last testing\n",
    "assert (azdias['TITEL_KZ'] == 0).sum() + (azdias['TITEL_KZ'] == -1).sum() + azdias['TITEL_KZ'].isnull().sum() == df_azdias['TITEL_KZ'].isnull().sum()"
   ]
  },
  {
   "cell_type": "markdown",
   "metadata": {},
   "source": [
    "#### Step 1.1.2: Assess Missing Data in Each Column\n",
    "\n",
    "How much missing data is present in each column? There are a few columns that are outliers in terms of the proportion of values that are missing. We visualize the distribution of missing value counts to find these columns, identify and document them.    \n",
    "While some of these columns might have justifications for keeping or re-encoding the data, we just remove them from the dataframe. "
   ]
  },
  {
   "cell_type": "code",
   "execution_count": 20,
   "metadata": {},
   "outputs": [],
   "source": [
    "# Get the missing values from the demographics data\n",
    "df_azdias_missing = pd.DataFrame(data=df_azdias.isnull().sum())"
   ]
  },
  {
   "cell_type": "code",
   "execution_count": 21,
   "metadata": {},
   "outputs": [],
   "source": [
    "# create an index column\n",
    "df_azdias_missing = df_azdias_missing.reset_index()\n",
    "\n",
    "# Set column name for easy usage\n",
    "df_azdias_missing.rename(columns={'index': 'column_name', 0: 'nb_of_missing'}, inplace=True)"
   ]
  },
  {
   "cell_type": "code",
   "execution_count": 22,
   "metadata": {
    "scrolled": false
   },
   "outputs": [
    {
     "data": {
      "text/plain": [
       "column_name      61\n",
       "nb_of_missing    61\n",
       "dtype: int64"
      ]
     },
     "execution_count": 22,
     "metadata": {},
     "output_type": "execute_result"
    }
   ],
   "source": [
    "# How many columns have missing data (out of 85) ?\n",
    "df_azdias_missing.query('nb_of_missing > 0').count()"
   ]
  },
  {
   "cell_type": "code",
   "execution_count": 23,
   "metadata": {},
   "outputs": [],
   "source": [
    "# Restrict the dataset to the 61, for further observation\n",
    "df_azdias_missing = df_azdias_missing.query('nb_of_missing > 0')"
   ]
  },
  {
   "cell_type": "code",
   "execution_count": 24,
   "metadata": {},
   "outputs": [
    {
     "data": {
      "text/html": [
       "<div>\n",
       "<style scoped>\n",
       "    .dataframe tbody tr th:only-of-type {\n",
       "        vertical-align: middle;\n",
       "    }\n",
       "\n",
       "    .dataframe tbody tr th {\n",
       "        vertical-align: top;\n",
       "    }\n",
       "\n",
       "    .dataframe thead th {\n",
       "        text-align: right;\n",
       "    }\n",
       "</style>\n",
       "<table border=\"1\" class=\"dataframe\">\n",
       "  <thead>\n",
       "    <tr style=\"text-align: right;\">\n",
       "      <th></th>\n",
       "      <th>nb_of_missing</th>\n",
       "    </tr>\n",
       "  </thead>\n",
       "  <tbody>\n",
       "    <tr>\n",
       "      <th>count</th>\n",
       "      <td>61.000000</td>\n",
       "    </tr>\n",
       "    <tr>\n",
       "      <th>mean</th>\n",
       "      <td>137277.524590</td>\n",
       "    </tr>\n",
       "    <tr>\n",
       "      <th>std</th>\n",
       "      <td>157099.496443</td>\n",
       "    </tr>\n",
       "    <tr>\n",
       "      <th>min</th>\n",
       "      <td>2881.000000</td>\n",
       "    </tr>\n",
       "    <tr>\n",
       "      <th>25%</th>\n",
       "      <td>93148.000000</td>\n",
       "    </tr>\n",
       "    <tr>\n",
       "      <th>50%</th>\n",
       "      <td>99352.000000</td>\n",
       "    </tr>\n",
       "    <tr>\n",
       "      <th>75%</th>\n",
       "      <td>116515.000000</td>\n",
       "    </tr>\n",
       "    <tr>\n",
       "      <th>max</th>\n",
       "      <td>889061.000000</td>\n",
       "    </tr>\n",
       "  </tbody>\n",
       "</table>\n",
       "</div>"
      ],
      "text/plain": [
       "       nb_of_missing\n",
       "count      61.000000\n",
       "mean   137277.524590\n",
       "std    157099.496443\n",
       "min      2881.000000\n",
       "25%     93148.000000\n",
       "50%     99352.000000\n",
       "75%    116515.000000\n",
       "max    889061.000000"
      ]
     },
     "execution_count": 24,
     "metadata": {},
     "output_type": "execute_result"
    }
   ],
   "source": [
    "# Get a view on the distribution\n",
    "df_azdias_missing.describe()"
   ]
  },
  {
   "cell_type": "markdown",
   "metadata": {},
   "source": [
    "#### Comment\n",
    "> At 75%, we are above 100 000. So we restrict our study here to the columns with a number of missing data above 100 0000"
   ]
  },
  {
   "cell_type": "code",
   "execution_count": 25,
   "metadata": {},
   "outputs": [],
   "source": [
    "# Restricting the dataset to the number of missing above 100 000\n",
    "df_azdias_missing = df_azdias_missing.query('nb_of_missing > 100000')"
   ]
  },
  {
   "cell_type": "code",
   "execution_count": 26,
   "metadata": {},
   "outputs": [],
   "source": [
    "# Sort for better visualization\n",
    "df_azdias_missing = df_azdias_missing.sort_values(by=['nb_of_missing'])"
   ]
  },
  {
   "cell_type": "code",
   "execution_count": 27,
   "metadata": {
    "scrolled": false
   },
   "outputs": [
    {
     "data": {
      "image/png": "[encoded data removed]",
      "text/plain": [
       "<matplotlib.figure.Figure at 0x7fa2fb891898>"
      ]
     },
     "metadata": {
      "needs_background": "light"
     },
     "output_type": "display_data"
    }
   ],
   "source": [
    "# Find the few outliers, visually\n",
    "# Set figure size\n",
    "plt.figure(figsize = [16, 6])\n",
    "\n",
    "# Plot the values using a single one color\n",
    "missing_plot = sns.barplot(x = 'column_name', y = 'nb_of_missing', \n",
    "                           data = df_azdias_missing, color=sns.color_palette()[0])\n",
    "\n",
    "# set the titles\n",
    "missing_plot.set(title='Number of missing data for each column', \n",
    "                 xlabel='Columns names', \n",
    "                 ylabel='Number of missing data')\n",
    "\n",
    "# Rotate the column names for better visibility\n",
    "missing_plot.set_xticklabels(missing_plot.get_xticklabels(), rotation=50);"
   ]
  },
  {
   "cell_type": "markdown",
   "metadata": {},
   "source": [
    "#### Comment \n",
    "> Visually we observe 4 groups. The last one contains the outliers."
   ]
  },
  {
   "cell_type": "code",
   "execution_count": 28,
   "metadata": {},
   "outputs": [
    {
     "data": {
      "text/html": [
       "<div>\n",
       "<style scoped>\n",
       "    .dataframe tbody tr th:only-of-type {\n",
       "        vertical-align: middle;\n",
       "    }\n",
       "\n",
       "    .dataframe tbody tr th {\n",
       "        vertical-align: top;\n",
       "    }\n",
       "\n",
       "    .dataframe thead th {\n",
       "        text-align: right;\n",
       "    }\n",
       "</style>\n",
       "<table border=\"1\" class=\"dataframe\">\n",
       "  <thead>\n",
       "    <tr style=\"text-align: right;\">\n",
       "      <th></th>\n",
       "      <th>column_name</th>\n",
       "      <th>nb_of_missing</th>\n",
       "    </tr>\n",
       "  </thead>\n",
       "  <tbody>\n",
       "    <tr>\n",
       "      <th>80</th>\n",
       "      <td>PLZ8_HHZ</td>\n",
       "      <td>116515</td>\n",
       "    </tr>\n",
       "  </tbody>\n",
       "</table>\n",
       "</div>"
      ],
      "text/plain": [
       "   column_name  nb_of_missing\n",
       "80    PLZ8_HHZ         116515"
      ]
     },
     "execution_count": 28,
     "metadata": {},
     "output_type": "execute_result"
    }
   ],
   "source": [
    "# Investigate some treshold values - end of group 1\n",
    "df_azdias_missing.query('column_name == \"PLZ8_HHZ\"')"
   ]
  },
  {
   "cell_type": "code",
   "execution_count": 29,
   "metadata": {
    "scrolled": true
   },
   "outputs": [
    {
     "data": {
      "text/html": [
       "<div>\n",
       "<style scoped>\n",
       "    .dataframe tbody tr th:only-of-type {\n",
       "        vertical-align: middle;\n",
       "    }\n",
       "\n",
       "    .dataframe tbody tr th {\n",
       "        vertical-align: top;\n",
       "    }\n",
       "\n",
       "    .dataframe thead th {\n",
       "        text-align: right;\n",
       "    }\n",
       "</style>\n",
       "<table border=\"1\" class=\"dataframe\">\n",
       "  <thead>\n",
       "    <tr style=\"text-align: right;\">\n",
       "      <th></th>\n",
       "      <th>column_name</th>\n",
       "      <th>nb_of_missing</th>\n",
       "    </tr>\n",
       "  </thead>\n",
       "  <tbody>\n",
       "    <tr>\n",
       "      <th>71</th>\n",
       "      <td>MOBI_REGIO</td>\n",
       "      <td>133324</td>\n",
       "    </tr>\n",
       "  </tbody>\n",
       "</table>\n",
       "</div>"
      ],
      "text/plain": [
       "   column_name  nb_of_missing\n",
       "71  MOBI_REGIO         133324"
      ]
     },
     "execution_count": 29,
     "metadata": {},
     "output_type": "execute_result"
    }
   ],
   "source": [
    "# Start of group 2\n",
    "df_azdias_missing.query('column_name == \"MOBI_REGIO\"')"
   ]
  },
  {
   "cell_type": "code",
   "execution_count": 30,
   "metadata": {
    "scrolled": false
   },
   "outputs": [
    {
     "data": {
      "text/html": [
       "<div>\n",
       "<style scoped>\n",
       "    .dataframe tbody tr th:only-of-type {\n",
       "        vertical-align: middle;\n",
       "    }\n",
       "\n",
       "    .dataframe tbody tr th {\n",
       "        vertical-align: top;\n",
       "    }\n",
       "\n",
       "    .dataframe thead th {\n",
       "        text-align: right;\n",
       "    }\n",
       "</style>\n",
       "<table border=\"1\" class=\"dataframe\">\n",
       "  <thead>\n",
       "    <tr style=\"text-align: right;\">\n",
       "      <th></th>\n",
       "      <th>column_name</th>\n",
       "      <th>nb_of_missing</th>\n",
       "    </tr>\n",
       "  </thead>\n",
       "  <tbody>\n",
       "    <tr>\n",
       "      <th>48</th>\n",
       "      <td>W_KEIT_KIND_HH</td>\n",
       "      <td>147988</td>\n",
       "    </tr>\n",
       "  </tbody>\n",
       "</table>\n",
       "</div>"
      ],
      "text/plain": [
       "       column_name  nb_of_missing\n",
       "48  W_KEIT_KIND_HH         147988"
      ]
     },
     "execution_count": 30,
     "metadata": {},
     "output_type": "execute_result"
    }
   ],
   "source": [
    "# start of group 3 \n",
    "df_azdias_missing.query('column_name == \"W_KEIT_KIND_HH\"')"
   ]
  },
  {
   "cell_type": "code",
   "execution_count": 31,
   "metadata": {
    "scrolled": true
   },
   "outputs": [
    {
     "data": {
      "text/html": [
       "<div>\n",
       "<style scoped>\n",
       "    .dataframe tbody tr th:only-of-type {\n",
       "        vertical-align: middle;\n",
       "    }\n",
       "\n",
       "    .dataframe tbody tr th {\n",
       "        vertical-align: top;\n",
       "    }\n",
       "\n",
       "    .dataframe thead th {\n",
       "        text-align: right;\n",
       "    }\n",
       "</style>\n",
       "<table border=\"1\" class=\"dataframe\">\n",
       "  <thead>\n",
       "    <tr style=\"text-align: right;\">\n",
       "      <th></th>\n",
       "      <th>column_name</th>\n",
       "      <th>nb_of_missing</th>\n",
       "    </tr>\n",
       "  </thead>\n",
       "  <tbody>\n",
       "    <tr>\n",
       "      <th>43</th>\n",
       "      <td>ALTER_HH</td>\n",
       "      <td>310267</td>\n",
       "    </tr>\n",
       "  </tbody>\n",
       "</table>\n",
       "</div>"
      ],
      "text/plain": [
       "   column_name  nb_of_missing\n",
       "43    ALTER_HH         310267"
      ]
     },
     "execution_count": 31,
     "metadata": {},
     "output_type": "execute_result"
    }
   ],
   "source": [
    "# start of group 4 \n",
    "df_azdias_missing.query('column_name == \"ALTER_HH\"')"
   ]
  },
  {
   "cell_type": "code",
   "execution_count": 32,
   "metadata": {},
   "outputs": [],
   "source": [
    "# Remove the outlier columns from the dataset.\n",
    "# We consider columns in the last group (group 4) as the outliers\n",
    "df_azdias.drop('ALTER_HH', axis=1, inplace=True)\n",
    "df_azdias.drop('GEBURTSJAHR', axis=1, inplace=True)\n",
    "df_azdias.drop('KBA05_BAUMAX', axis=1, inplace=True)\n",
    "df_azdias.drop('KK_KUNDENTYP', axis=1, inplace=True)\n",
    "df_azdias.drop('AGER_TYP', axis=1, inplace=True)\n",
    "df_azdias.drop('TITEL_KZ', axis=1, inplace=True)"
   ]
  },
  {
   "cell_type": "code",
   "execution_count": 33,
   "metadata": {},
   "outputs": [],
   "source": [
    "# Assert the number of column\n",
    "assert df_azdias.shape[1] == 79"
   ]
  },
  {
   "cell_type": "markdown",
   "metadata": {},
   "source": [
    "#### Discussion 1.1.2: Assess Missing Data in Each Column\n",
    "> Visualy, we identified 4 groups. The columns in the last group are considered outliers. `ALTER_HH`, which is the first of them. It contains 310 267 missing values.   \n",
    "So the columns we removed are :\n",
    "- `ALTER_HH`: Birth date of head of household\n",
    "- `GEBURTSJAHR`: Year of birth.\n",
    "- `KBA05_BAUMAX`: Most common building type within the microcell\n",
    "- `KK_KUNDENTYP`: Consumer pattern over past 12 months\n",
    "- `AGER_TYP`: Best-ager typology.\n",
    "- `TITEL_KZ`: Academic title flag\n",
    "\n",
    "Does the missing of those values affect the grouping we are heading to ? It is not that clear at this step and will asessed again futher. But clearly, `KK_KUNDENTYP`: Consumer pattern over past 12 months, seems to be an important column."
   ]
  },
  {
   "cell_type": "markdown",
   "metadata": {},
   "source": [
    "#### Step 1.1.3: Assess Missing Data in Each Row\n",
    "\n",
    "Now, we perform a similar assessment for the rows of the dataset. How much data is missing in each row? As with the columns, we might have some groups of points that have a very different numbers of missing values. We divide the data into two subsets: one for data points that are above some threshold for missing values, and a second subset for points below that threshold.\n",
    "\n",
    "In order to know what to do with the outlier rows, we see if the distribution of data values on columns that are not missing data (or are missing very little data) are similar or different between the two groups. We select at least five of these columns and compare the distribution of values.\n",
    "\n",
    "Depending on what we observe in the comparison, we will have implications on how we approach our conclusions later in the analysis. If the distributions of non-missing features look similar between the data with many missing values and the data with few or no missing values, then we could argue that simply dropping those points from the analysis won't present a major issue. On the other hand, if the data with many missing values looks very different from the data with few or no missing values, then we should make a note on those data as special. We'll revisit these data later on. "
   ]
  },
  {
   "cell_type": "code",
   "execution_count": 34,
   "metadata": {},
   "outputs": [],
   "source": [
    "# Number of data missing in each row\n",
    "df_azdias_row_missing = pd.DataFrame(data=df_azdias.isnull().sum(axis=1))"
   ]
  },
  {
   "cell_type": "code",
   "execution_count": 35,
   "metadata": {},
   "outputs": [],
   "source": [
    "# Set column name for easy usage\n",
    "df_azdias_row_missing.rename(columns={0: 'nb_of_missing'}, inplace=True)"
   ]
  },
  {
   "cell_type": "code",
   "execution_count": 36,
   "metadata": {},
   "outputs": [
    {
     "data": {
      "text/html": [
       "<div>\n",
       "<style scoped>\n",
       "    .dataframe tbody tr th:only-of-type {\n",
       "        vertical-align: middle;\n",
       "    }\n",
       "\n",
       "    .dataframe tbody tr th {\n",
       "        vertical-align: top;\n",
       "    }\n",
       "\n",
       "    .dataframe thead th {\n",
       "        text-align: right;\n",
       "    }\n",
       "</style>\n",
       "<table border=\"1\" class=\"dataframe\">\n",
       "  <thead>\n",
       "    <tr style=\"text-align: right;\">\n",
       "      <th></th>\n",
       "      <th>nb_of_missing</th>\n",
       "    </tr>\n",
       "  </thead>\n",
       "  <tbody>\n",
       "    <tr>\n",
       "      <th>891216</th>\n",
       "      <td>3</td>\n",
       "    </tr>\n",
       "    <tr>\n",
       "      <th>891217</th>\n",
       "      <td>4</td>\n",
       "    </tr>\n",
       "    <tr>\n",
       "      <th>891218</th>\n",
       "      <td>5</td>\n",
       "    </tr>\n",
       "    <tr>\n",
       "      <th>891219</th>\n",
       "      <td>0</td>\n",
       "    </tr>\n",
       "    <tr>\n",
       "      <th>891220</th>\n",
       "      <td>0</td>\n",
       "    </tr>\n",
       "  </tbody>\n",
       "</table>\n",
       "</div>"
      ],
      "text/plain": [
       "        nb_of_missing\n",
       "891216              3\n",
       "891217              4\n",
       "891218              5\n",
       "891219              0\n",
       "891220              0"
      ]
     },
     "execution_count": 36,
     "metadata": {},
     "output_type": "execute_result"
    }
   ],
   "source": [
    "# Get a view on the dataset\n",
    "df_azdias_row_missing.tail()"
   ]
  },
  {
   "cell_type": "code",
   "execution_count": 37,
   "metadata": {},
   "outputs": [
    {
     "data": {
      "text/html": [
       "<div>\n",
       "<style scoped>\n",
       "    .dataframe tbody tr th:only-of-type {\n",
       "        vertical-align: middle;\n",
       "    }\n",
       "\n",
       "    .dataframe tbody tr th {\n",
       "        vertical-align: top;\n",
       "    }\n",
       "\n",
       "    .dataframe thead th {\n",
       "        text-align: right;\n",
       "    }\n",
       "</style>\n",
       "<table border=\"1\" class=\"dataframe\">\n",
       "  <thead>\n",
       "    <tr style=\"text-align: right;\">\n",
       "      <th></th>\n",
       "      <th>nb_of_missing</th>\n",
       "    </tr>\n",
       "  </thead>\n",
       "  <tbody>\n",
       "    <tr>\n",
       "      <th>count</th>\n",
       "      <td>891221.000000</td>\n",
       "    </tr>\n",
       "    <tr>\n",
       "      <th>mean</th>\n",
       "      <td>5.649894</td>\n",
       "    </tr>\n",
       "    <tr>\n",
       "      <th>std</th>\n",
       "      <td>13.234687</td>\n",
       "    </tr>\n",
       "    <tr>\n",
       "      <th>min</th>\n",
       "      <td>0.000000</td>\n",
       "    </tr>\n",
       "    <tr>\n",
       "      <th>25%</th>\n",
       "      <td>0.000000</td>\n",
       "    </tr>\n",
       "    <tr>\n",
       "      <th>50%</th>\n",
       "      <td>0.000000</td>\n",
       "    </tr>\n",
       "    <tr>\n",
       "      <th>75%</th>\n",
       "      <td>3.000000</td>\n",
       "    </tr>\n",
       "    <tr>\n",
       "      <th>max</th>\n",
       "      <td>49.000000</td>\n",
       "    </tr>\n",
       "  </tbody>\n",
       "</table>\n",
       "</div>"
      ],
      "text/plain": [
       "       nb_of_missing\n",
       "count  891221.000000\n",
       "mean        5.649894\n",
       "std        13.234687\n",
       "min         0.000000\n",
       "25%         0.000000\n",
       "50%         0.000000\n",
       "75%         3.000000\n",
       "max        49.000000"
      ]
     },
     "execution_count": 37,
     "metadata": {},
     "output_type": "execute_result"
    }
   ],
   "source": [
    "# Get the statistics\n",
    "df_azdias_row_missing.describe()"
   ]
  },
  {
   "cell_type": "code",
   "execution_count": 38,
   "metadata": {},
   "outputs": [
    {
     "data": {
      "text/html": [
       "<div>\n",
       "<style scoped>\n",
       "    .dataframe tbody tr th:only-of-type {\n",
       "        vertical-align: middle;\n",
       "    }\n",
       "\n",
       "    .dataframe tbody tr th {\n",
       "        vertical-align: top;\n",
       "    }\n",
       "\n",
       "    .dataframe thead th {\n",
       "        text-align: right;\n",
       "    }\n",
       "</style>\n",
       "<table border=\"1\" class=\"dataframe\">\n",
       "  <thead>\n",
       "    <tr style=\"text-align: right;\">\n",
       "      <th></th>\n",
       "      <th>nb_of_missing</th>\n",
       "    </tr>\n",
       "  </thead>\n",
       "  <tbody>\n",
       "    <tr>\n",
       "      <th>count</th>\n",
       "      <td>206719.000000</td>\n",
       "    </tr>\n",
       "    <tr>\n",
       "      <th>mean</th>\n",
       "      <td>23.756050</td>\n",
       "    </tr>\n",
       "    <tr>\n",
       "      <th>std</th>\n",
       "      <td>18.084151</td>\n",
       "    </tr>\n",
       "    <tr>\n",
       "      <th>min</th>\n",
       "      <td>4.000000</td>\n",
       "    </tr>\n",
       "    <tr>\n",
       "      <th>25%</th>\n",
       "      <td>7.000000</td>\n",
       "    </tr>\n",
       "    <tr>\n",
       "      <th>50%</th>\n",
       "      <td>15.000000</td>\n",
       "    </tr>\n",
       "    <tr>\n",
       "      <th>75%</th>\n",
       "      <td>43.000000</td>\n",
       "    </tr>\n",
       "    <tr>\n",
       "      <th>max</th>\n",
       "      <td>49.000000</td>\n",
       "    </tr>\n",
       "  </tbody>\n",
       "</table>\n",
       "</div>"
      ],
      "text/plain": [
       "       nb_of_missing\n",
       "count  206719.000000\n",
       "mean       23.756050\n",
       "std        18.084151\n",
       "min         4.000000\n",
       "25%         7.000000\n",
       "50%        15.000000\n",
       "75%        43.000000\n",
       "max        49.000000"
      ]
     },
     "execution_count": 38,
     "metadata": {},
     "output_type": "execute_result"
    }
   ],
   "source": [
    "# How is the distribution especially above 3 ?\n",
    "df_azdias_row_missing.query('nb_of_missing > 3').describe()"
   ]
  },
  {
   "cell_type": "code",
   "execution_count": 39,
   "metadata": {},
   "outputs": [],
   "source": [
    "# Merge the number of missing rows with the demographic dataset\n",
    "df_azdias = df_azdias.merge(df_azdias_row_missing, left_index=True, right_index=True)"
   ]
  },
  {
   "cell_type": "code",
   "execution_count": 40,
   "metadata": {},
   "outputs": [],
   "source": [
    "# Divide the data into two subsets based on the number of missing values in each row.\n",
    "# Subset 1: rows with number of missing values <= 3\n",
    "# Subset 2: rows with number of missing values > 3\n",
    "\n",
    "df_azdias_below = df_azdias.query('nb_of_missing <= 3').copy()\n",
    "df_azdias_above = df_azdias.query('nb_of_missing > 3').copy()"
   ]
  },
  {
   "cell_type": "code",
   "execution_count": 41,
   "metadata": {},
   "outputs": [],
   "source": [
    "# Remove 'nb_of_missing' columns\n",
    "df_azdias_below.drop('nb_of_missing', axis=1, inplace=True)\n",
    "df_azdias_above.drop('nb_of_missing', axis=1, inplace=True)\n",
    "df_azdias.drop('nb_of_missing', axis=1, inplace=True)"
   ]
  },
  {
   "cell_type": "code",
   "execution_count": 42,
   "metadata": {},
   "outputs": [],
   "source": [
    "# Check the size\n",
    "assert df_azdias_below.shape[0] + df_azdias_above.shape[0] == df_azdias.shape[0]\n",
    "assert df_azdias_below.shape[1] == df_azdias.shape[1]\n",
    "assert df_azdias_above.shape[1] == df_azdias.shape[1]"
   ]
  },
  {
   "cell_type": "code",
   "execution_count": 43,
   "metadata": {},
   "outputs": [],
   "source": [
    "# Compare the distribution of values for a column where there are\n",
    "# no or few missing values, between the two subsets. \n",
    "def compare_column_distribution(column_name, dataset_below, dataset_above):\n",
    "    fig = plt.figure(figsize = [16, 6])\n",
    "    \n",
    "    fig.add_subplot(1, 2, 1)\n",
    "    below_visu = sns.countplot(data = dataset_below, x = column_name, color=sns.color_palette()[0])\n",
    "    below_visu.set(title=column_name + ' codes frequencies - Below threshold', \n",
    "                 xlabel='Unique codes values', \n",
    "                 ylabel='Code frequencies')\n",
    "    \n",
    "    fig.add_subplot(1, 2, 2)\n",
    "    above_visu = sns.countplot(data = dataset_above, x = column_name, color=sns.color_palette()[1])\n",
    "    above_visu.set(title=column_name + ' codes frequencies - Above threshold', \n",
    "                 xlabel='Unique codes values', \n",
    "                 ylabel='Code frequencies');\n",
    "    return"
   ]
  },
  {
   "cell_type": "code",
   "execution_count": 44,
   "metadata": {
    "scrolled": false
   },
   "outputs": [
    {
     "name": "stdout",
     "output_type": "stream",
     "text": [
      "ANREDE_KZ\n",
      "FINANZ_MINIMALIST\n",
      "FINANZ_SPARER\n",
      "FINANZ_VORSORGER\n",
      "FINANZ_ANLEGER\n",
      "FINANZ_UNAUFFAELLIGER\n",
      "FINANZ_HAUSBAUER\n",
      "FINANZTYP\n",
      "GREEN_AVANTGARDE\n",
      "SEMIO_SOZ\n",
      "SEMIO_FAM\n",
      "SEMIO_REL\n",
      "SEMIO_MAT\n",
      "SEMIO_VERT\n",
      "SEMIO_LUST\n",
      "SEMIO_ERL\n",
      "SEMIO_KULT\n",
      "SEMIO_RAT\n",
      "SEMIO_KRIT\n",
      "SEMIO_DOM\n",
      "SEMIO_KAEM\n",
      "SEMIO_PFLICHT\n",
      "SEMIO_TRADV\n",
      "ZABEOTYP\n"
     ]
    }
   ],
   "source": [
    "# Which columns do we use to compare the distribution ?\n",
    "# Whe choose some of the ones with zero missing values\n",
    "for column_name, number_of_missing in df_azdias.isnull().sum().items():\n",
    "    if number_of_missing == 0:\n",
    "        print(column_name)"
   ]
  },
  {
   "cell_type": "code",
   "execution_count": 45,
   "metadata": {},
   "outputs": [
    {
     "data": {
      "image/png": "[encoded data removed]",
      "text/plain": [
       "<matplotlib.figure.Figure at 0x7fa2f9510898>"
      ]
     },
     "metadata": {
      "needs_background": "light"
     },
     "output_type": "display_data"
    }
   ],
   "source": [
    "# Compagre ANREDE_KZ\n",
    "compare_column_distribution('ANREDE_KZ', df_azdias_below, df_azdias_above)"
   ]
  },
  {
   "cell_type": "code",
   "execution_count": 46,
   "metadata": {},
   "outputs": [
    {
     "data": {
      "image/png": "[encoded data removed]",
      "text/plain": [
       "<matplotlib.figure.Figure at 0x7fa31ad46c88>"
      ]
     },
     "metadata": {
      "needs_background": "light"
     },
     "output_type": "display_data"
    }
   ],
   "source": [
    "# Compagre FINANZ_SPARER\n",
    "compare_column_distribution('FINANZ_SPARER', df_azdias_below, df_azdias_above)"
   ]
  },
  {
   "cell_type": "code",
   "execution_count": 47,
   "metadata": {
    "scrolled": false
   },
   "outputs": [
    {
     "data": {
      "image/png": "[encoded data removed]",
      "text/plain": [
       "<matplotlib.figure.Figure at 0x7fa31acf2128>"
      ]
     },
     "metadata": {
      "needs_background": "light"
     },
     "output_type": "display_data"
    }
   ],
   "source": [
    "# Compagre GREEN_AVANTGARDE\n",
    "compare_column_distribution('GREEN_AVANTGARDE', df_azdias_below, df_azdias_above)"
   ]
  },
  {
   "cell_type": "code",
   "execution_count": 48,
   "metadata": {},
   "outputs": [
    {
     "data": {
      "image/png": "[encoded data removed]",
      "text/plain": [
       "<matplotlib.figure.Figure at 0x7fa31ac1a748>"
      ]
     },
     "metadata": {
      "needs_background": "light"
     },
     "output_type": "display_data"
    }
   ],
   "source": [
    "# Compagre SEMIO_VERT\n",
    "compare_column_distribution('SEMIO_VERT', df_azdias_below, df_azdias_above)"
   ]
  },
  {
   "cell_type": "code",
   "execution_count": 49,
   "metadata": {},
   "outputs": [
    {
     "data": {
      "image/png": "[encoded data removed]",
      "text/plain": [
       "<matplotlib.figure.Figure at 0x7fa31ab51fd0>"
      ]
     },
     "metadata": {
      "needs_background": "light"
     },
     "output_type": "display_data"
    }
   ],
   "source": [
    "# Compagre ZABEOTYP\n",
    "compare_column_distribution('ZABEOTYP', df_azdias_below, df_azdias_above)"
   ]
  },
  {
   "cell_type": "markdown",
   "metadata": {},
   "source": [
    "#### Discussion 1.1.3: Assess Missing Data in Each Row\n",
    "> Out of 5 columns code frequencies visualization, the distribution seems different for 2 columns:\n",
    "- `FINANZ_SPARER`: money saver, from very high to very low. The difference is mainly regarding the value '4', which is high for the distribution \"Above the threshold\" and low when were are \"Below threshold\". As '4' here means 'low', let's keep that in mind.\n",
    "- `SEMIO_VERT`: dreamful personality, from lowest to highest affinity. Intuitively, this parameter might not be that important for the grouping we are heading to. Anyway, we keep that in mind for the next steps.   \n",
    "\n",
    "> Consequently, we keep our threshold at 3, and continue with the values below the threshold. Also, below 3, we have 684502 lines, which is 77% of all the data."
   ]
  },
  {
   "cell_type": "markdown",
   "metadata": {},
   "source": [
    "### Step 1.2: Select and Re-Encode Features\n",
    "\n",
    "Checking for missing data isn't the only way in which we can prepare a dataset for analysis. Since the unsupervised learning techniques to be used will only work on data that is encoded numerically, we need to make a few encoding changes or additional assumptions to be able to make progress. In addition, while almost all of the values in the dataset are encoded using numbers, not all of them represent numeric values. We check the third column of the feature summary (`feat_info`) for a summary of types of measurement.\n",
    "- For numeric and interval data, these features can be kept without changes.\n",
    "- Most of the variables in the dataset are ordinal in nature. While ordinal values may technically be non-linear in spacing, we make the simplifying assumption that the ordinal variables can be treated as being interval in nature (that is, kept without any changes).\n",
    "- Special handling will be necessary for the remaining two variable types: categorical, and 'mixed'.\n",
    "\n",
    "In the first two parts of this sub-step, we perform an investigation of the categorical and mixed-type features and make a decision on each of them, whether we keep, drop, or re-encode each. Then, in the last part, we create a new data frame with only the selected and engineered columns."
   ]
  },
  {
   "cell_type": "code",
   "execution_count": 50,
   "metadata": {},
   "outputs": [
    {
     "data": {
      "text/html": [
       "<div>\n",
       "<style scoped>\n",
       "    .dataframe tbody tr th:only-of-type {\n",
       "        vertical-align: middle;\n",
       "    }\n",
       "\n",
       "    .dataframe tbody tr th {\n",
       "        vertical-align: top;\n",
       "    }\n",
       "\n",
       "    .dataframe thead th {\n",
       "        text-align: right;\n",
       "    }\n",
       "</style>\n",
       "<table border=\"1\" class=\"dataframe\">\n",
       "  <thead>\n",
       "    <tr style=\"text-align: right;\">\n",
       "      <th></th>\n",
       "      <th>attribute</th>\n",
       "      <th>information_level</th>\n",
       "      <th>type</th>\n",
       "      <th>missing_or_unknown</th>\n",
       "    </tr>\n",
       "  </thead>\n",
       "  <tbody>\n",
       "    <tr>\n",
       "      <th>0</th>\n",
       "      <td>AGER_TYP</td>\n",
       "      <td>person</td>\n",
       "      <td>categorical</td>\n",
       "      <td>[-1, 0]</td>\n",
       "    </tr>\n",
       "    <tr>\n",
       "      <th>1</th>\n",
       "      <td>ALTERSKATEGORIE_GROB</td>\n",
       "      <td>person</td>\n",
       "      <td>ordinal</td>\n",
       "      <td>[-1, 0, 9]</td>\n",
       "    </tr>\n",
       "    <tr>\n",
       "      <th>2</th>\n",
       "      <td>ANREDE_KZ</td>\n",
       "      <td>person</td>\n",
       "      <td>categorical</td>\n",
       "      <td>[-1, 0]</td>\n",
       "    </tr>\n",
       "    <tr>\n",
       "      <th>3</th>\n",
       "      <td>CJT_GESAMTTYP</td>\n",
       "      <td>person</td>\n",
       "      <td>categorical</td>\n",
       "      <td>[0]</td>\n",
       "    </tr>\n",
       "    <tr>\n",
       "      <th>4</th>\n",
       "      <td>FINANZ_MINIMALIST</td>\n",
       "      <td>person</td>\n",
       "      <td>ordinal</td>\n",
       "      <td>[-1]</td>\n",
       "    </tr>\n",
       "  </tbody>\n",
       "</table>\n",
       "</div>"
      ],
      "text/plain": [
       "              attribute information_level         type missing_or_unknown\n",
       "0              AGER_TYP            person  categorical            [-1, 0]\n",
       "1  ALTERSKATEGORIE_GROB            person      ordinal         [-1, 0, 9]\n",
       "2             ANREDE_KZ            person  categorical            [-1, 0]\n",
       "3         CJT_GESAMTTYP            person  categorical                [0]\n",
       "4     FINANZ_MINIMALIST            person      ordinal               [-1]"
      ]
     },
     "execution_count": 50,
     "metadata": {},
     "output_type": "execute_result"
    }
   ],
   "source": [
    "# Observe the features dataset\n",
    "feat_info.head()"
   ]
  },
  {
   "cell_type": "code",
   "execution_count": 51,
   "metadata": {},
   "outputs": [
    {
     "data": {
      "text/plain": [
       "array(['categorical', 'ordinal', 'numeric', 'mixed', 'interval'], dtype=object)"
      ]
     },
     "execution_count": 51,
     "metadata": {},
     "output_type": "execute_result"
    }
   ],
   "source": [
    "# How many features are there of each data type?\n",
    "\n",
    "# Get the unique list of the features\n",
    "feat_info.type.unique()"
   ]
  },
  {
   "cell_type": "code",
   "execution_count": 52,
   "metadata": {},
   "outputs": [
    {
     "data": {
      "text/plain": [
       "21"
      ]
     },
     "execution_count": 52,
     "metadata": {},
     "output_type": "execute_result"
    }
   ],
   "source": [
    "# Number of 'categorical' features \n",
    "feat_info.query('type == \"categorical\"').shape[0]"
   ]
  },
  {
   "cell_type": "code",
   "execution_count": 53,
   "metadata": {},
   "outputs": [
    {
     "data": {
      "text/plain": [
       "49"
      ]
     },
     "execution_count": 53,
     "metadata": {},
     "output_type": "execute_result"
    }
   ],
   "source": [
    "# Number of 'ordinal' features \n",
    "feat_info.query('type == \"ordinal\"').shape[0]"
   ]
  },
  {
   "cell_type": "code",
   "execution_count": 54,
   "metadata": {},
   "outputs": [
    {
     "data": {
      "text/plain": [
       "7"
      ]
     },
     "execution_count": 54,
     "metadata": {},
     "output_type": "execute_result"
    }
   ],
   "source": [
    "# Number of 'numeric' features \n",
    "feat_info.query('type == \"numeric\"').shape[0]"
   ]
  },
  {
   "cell_type": "code",
   "execution_count": 55,
   "metadata": {},
   "outputs": [
    {
     "data": {
      "text/plain": [
       "7"
      ]
     },
     "execution_count": 55,
     "metadata": {},
     "output_type": "execute_result"
    }
   ],
   "source": [
    "# Number of 'mixed' features \n",
    "feat_info.query('type == \"mixed\"').shape[0]"
   ]
  },
  {
   "cell_type": "code",
   "execution_count": 56,
   "metadata": {},
   "outputs": [
    {
     "data": {
      "text/plain": [
       "1"
      ]
     },
     "execution_count": 56,
     "metadata": {},
     "output_type": "execute_result"
    }
   ],
   "source": [
    "# Number of 'mixed' features \n",
    "feat_info.query('type == \"interval\"').shape[0]"
   ]
  },
  {
   "cell_type": "markdown",
   "metadata": {},
   "source": [
    "#### Step 1.2.1: Re-Encode Categorical Features\n",
    "\n",
    "For categorical data, we need to encode the levels as dummy variables. We perform one of the following:\n",
    "- For binary (two-level) categoricals that take numeric values, we keep them without needing to do anything.\n",
    "- There is one binary variable that takes on non-numeric values. For this one, we re-encode the values as numbers or create a dummy variable.\n",
    "- For multi-level categoricals (three or more values), wechoose to encode the values using multiple dummy variables ."
   ]
  },
  {
   "cell_type": "code",
   "execution_count": 57,
   "metadata": {},
   "outputs": [],
   "source": [
    "# Assess categorical variables: which are binary, which are multi-level, and\n",
    "# which one needs to be re-encoded?\n",
    "\n",
    "# Get the categorical features\n",
    "categorical_features = feat_info.query('type == \"categorical\"').attribute"
   ]
  },
  {
   "cell_type": "code",
   "execution_count": 58,
   "metadata": {
    "scrolled": false
   },
   "outputs": [
    {
     "name": "stdout",
     "output_type": "stream",
     "text": [
      "Feature not present anymore in Azdias : AGER_TYP\n",
      "Feature not present anymore in Azdias : TITEL_KZ\n",
      "Feature not present anymore in Azdias : KK_KUNDENTYP\n"
     ]
    }
   ],
   "source": [
    "# For each categorical feature, get the number of unique values in the demographics dataset\n",
    "# Create a a dictionary for azdias categorical features\n",
    "azdias_categorical_features = {}\n",
    "\n",
    "for a_feature in categorical_features:\n",
    "    # Because of the previous cleaning, some features are missing\n",
    "    # So we just print out for verification and continue\n",
    "    try:\n",
    "        # Fill the dictionary with the categorical feature identified\n",
    "        azdias_categorical_features[a_feature] = df_azdias_below[a_feature].nunique()\n",
    "    except KeyError as ke:\n",
    "        print(\"Feature not present anymore in Azdias : \" + a_feature)"
   ]
  },
  {
   "cell_type": "code",
   "execution_count": 59,
   "metadata": {},
   "outputs": [
    {
     "name": "stdout",
     "output_type": "stream",
     "text": [
      "{'ANREDE_KZ': 2, 'CJT_GESAMTTYP': 6, 'FINANZTYP': 6, 'GFK_URLAUBERTYP': 12, 'GREEN_AVANTGARDE': 2, 'LP_FAMILIE_FEIN': 11, 'LP_FAMILIE_GROB': 5, 'LP_STATUS_FEIN': 10, 'LP_STATUS_GROB': 5, 'NATIONALITAET_KZ': 3, 'SHOPPER_TYP': 4, 'SOHO_KZ': 2, 'VERS_TYP': 2, 'ZABEOTYP': 6, 'GEBAEUDETYP': 7, 'OST_WEST_KZ': 2, 'CAMEO_DEUG_2015': 9, 'CAMEO_DEU_2015': 44}\n"
     ]
    }
   ],
   "source": [
    "# print the dicitonary\n",
    "print(azdias_categorical_features)"
   ]
  },
  {
   "cell_type": "code",
   "execution_count": 60,
   "metadata": {
    "scrolled": true
   },
   "outputs": [
    {
     "name": "stdout",
     "output_type": "stream",
     "text": [
      "ANREDE_KZ\n",
      "[2 1]\n",
      "GREEN_AVANTGARDE\n",
      "[0 1]\n",
      "SOHO_KZ\n",
      "[ 1.  0.]\n",
      "VERS_TYP\n",
      "[ 2.  1.]\n",
      "OST_WEST_KZ\n",
      "['W' 'O']\n"
     ]
    }
   ],
   "source": [
    "# Which binary does not take numeric values ? - knowing the binaries as show above\n",
    "for column_name in ['ANREDE_KZ', 'GREEN_AVANTGARDE', 'SOHO_KZ', 'VERS_TYP', 'OST_WEST_KZ']:\n",
    "    print(column_name)\n",
    "    print(df_azdias_below[column_name].unique())"
   ]
  },
  {
   "cell_type": "code",
   "execution_count": 61,
   "metadata": {},
   "outputs": [],
   "source": [
    "# OST_WEST_KZ is the Building location via former East / West Germany (GDR / FRG)\n",
    "# Currently it used NaN: unknown, O: East (GDR), W: West (FRG)\n",
    "# We choose 1 for West and 0 for East\n",
    "def binary_to_numeric(row):\n",
    "    numeric_value = None\n",
    "    if row['OST_WEST_KZ'] == 'W':\n",
    "        numeric_value = 1\n",
    "    if row['OST_WEST_KZ'] == 'O':\n",
    "        numeric_value = 0\n",
    "    \n",
    "    return numeric_value"
   ]
  },
  {
   "cell_type": "code",
   "execution_count": 62,
   "metadata": {},
   "outputs": [],
   "source": [
    "# Re-encode OST_WEST_KZ\n",
    "df_azdias_below['OST_WEST_KZ'] = df_azdias_below.apply(binary_to_numeric, axis=1)"
   ]
  },
  {
   "cell_type": "code",
   "execution_count": 63,
   "metadata": {},
   "outputs": [
    {
     "data": {
      "text/plain": [
       "(dtype('int64'), array([1, 0]))"
      ]
     },
     "execution_count": 63,
     "metadata": {},
     "output_type": "execute_result"
    }
   ],
   "source": [
    "# Check\n",
    "df_azdias_below['OST_WEST_KZ'].dtypes, df_azdias_below['OST_WEST_KZ'].unique()"
   ]
  },
  {
   "cell_type": "code",
   "execution_count": 64,
   "metadata": {},
   "outputs": [],
   "source": [
    "# Remove OST_WEST_KZ from the dictionnary\n",
    "del azdias_categorical_features['OST_WEST_KZ']"
   ]
  },
  {
   "cell_type": "code",
   "execution_count": 65,
   "metadata": {},
   "outputs": [],
   "source": [
    "# Remove 'CAMEO_DEU_2015' colum from the dataset\n",
    "df_azdias_below.drop('CAMEO_DEU_2015', axis=1, inplace=True)"
   ]
  },
  {
   "cell_type": "code",
   "execution_count": 66,
   "metadata": {},
   "outputs": [],
   "source": [
    "# Consequently remove it also from our list\n",
    "del azdias_categorical_features['CAMEO_DEU_2015']"
   ]
  },
  {
   "cell_type": "code",
   "execution_count": 67,
   "metadata": {},
   "outputs": [],
   "source": [
    "# Check\n",
    "assert df_azdias_below.shape[1] == 78"
   ]
  },
  {
   "cell_type": "code",
   "execution_count": 68,
   "metadata": {},
   "outputs": [],
   "source": [
    "# Binaries are processed, so remove them from the dictionary\n",
    "del azdias_categorical_features['ANREDE_KZ']\n",
    "del azdias_categorical_features['GREEN_AVANTGARDE']\n",
    "del azdias_categorical_features['SOHO_KZ']\n",
    "del azdias_categorical_features['VERS_TYP']"
   ]
  },
  {
   "cell_type": "code",
   "execution_count": 69,
   "metadata": {},
   "outputs": [
    {
     "data": {
      "text/plain": [
       "{'CJT_GESAMTTYP': 6,\n",
       " 'FINANZTYP': 6,\n",
       " 'GFK_URLAUBERTYP': 12,\n",
       " 'LP_FAMILIE_FEIN': 11,\n",
       " 'LP_FAMILIE_GROB': 5,\n",
       " 'LP_STATUS_FEIN': 10,\n",
       " 'LP_STATUS_GROB': 5,\n",
       " 'NATIONALITAET_KZ': 3,\n",
       " 'SHOPPER_TYP': 4,\n",
       " 'ZABEOTYP': 6,\n",
       " 'GEBAEUDETYP': 7,\n",
       " 'CAMEO_DEUG_2015': 9}"
      ]
     },
     "execution_count": 69,
     "metadata": {},
     "output_type": "execute_result"
    }
   ],
   "source": [
    "# Visual verification\n",
    "azdias_categorical_features"
   ]
  },
  {
   "cell_type": "code",
   "execution_count": 70,
   "metadata": {},
   "outputs": [],
   "source": [
    "# Re-encode categorical variable(s) to be kept in the analysis.\n",
    "# Code: For each column, we create the dummies, join them to the dataset and then delete the column\n",
    "for column, level in azdias_categorical_features.items():\n",
    "    dummies_values = pd.get_dummies(df_azdias_below[column], prefix=column)\n",
    "    df_azdias_below = df_azdias_below.join(dummies_values)\n",
    "    df_azdias_below.drop(column, axis=1, inplace=True)"
   ]
  },
  {
   "cell_type": "markdown",
   "metadata": {},
   "source": [
    "#### Discussion 1.2.1: Re-Encode Categorical Features\n",
    "> - Binary categoricals: ANREDE_KZ, GREEN_AVANTGARDE, SOHO_KZ, VERS_TYP, OST_WEST_KZ    \n",
    "> - Multi-level categoricals: CJT_GESAMTTYP, FINANZTYP, GFK_URLAUBERTYP, LP_FAMILIE_FEIN, LP_FAMILIE_GROB, LP_STATUS_FEIN, LP_STATUS_GROB, NATIONALITAET_KZ, SHOPPER_TYP, ZABEOTYP, GEBAEUDETYP, CAMEO_DEUG_2015, CAMEO_DEU_2015   \n",
    "\n",
    "> To keep things straightforward, we decided to drop the categorical CAMEO_DEU_2015. It has too many features.    \n",
    "> We identified OST_WEST_KZ as the binary column that does not take numerical values and re-encode it. We chose 1 for West and 0 for East.   \n",
    "> We encode all the remaining columns using dummies. Algo: For each column, we create the dummies, join them to the dataset and then delete the column.   \n"
   ]
  },
  {
   "cell_type": "markdown",
   "metadata": {},
   "source": [
    "#### Step 1.2.2: Engineer Mixed-Type Features\n",
    "\n",
    "There are a handful of features that are marked as \"mixed\" in the feature summary that require special treatment in order to be included in the analysis. There are two in particular that deserve our attention :\n",
    "- \"PRAEGENDE_JUGENDJAHRE\" combines information on three dimensions: generation by decade, movement (mainstream vs. avantgarde), and nation (east vs. west). While there aren't enough levels to disentangle east from west, we create two new variables to capture the other two dimensions: an interval-type variable for decade, and a binary variable for movement.\n",
    "- \"CAMEO_INTL_2015\" combines information on two axes: wealth and life stage. We break up the two-digit codes by their 'tens'-place and 'ones'-place digits into two new ordinal variables (which, for the purposes of this project, is equivalent to just treating them as their raw numeric values).\n",
    "\n",
    "We use `Data_Dictionary.md` for the details about the features."
   ]
  },
  {
   "cell_type": "code",
   "execution_count": 71,
   "metadata": {},
   "outputs": [],
   "source": [
    "# Get the \"mixed\" features\n",
    "mixed_features = feat_info.query('type == \"mixed\"').attribute"
   ]
  },
  {
   "cell_type": "code",
   "execution_count": 72,
   "metadata": {},
   "outputs": [],
   "source": [
    "# Restrict to the ones we have on azdias dataset\n",
    "azdias_mixed_features = []\n",
    "\n",
    "for a_feature in mixed_features:\n",
    "    if (a_feature in df_azdias_below.columns):\n",
    "        azdias_mixed_features.append(a_feature)"
   ]
  },
  {
   "cell_type": "code",
   "execution_count": 73,
   "metadata": {},
   "outputs": [
    {
     "data": {
      "text/plain": [
       "['LP_LEBENSPHASE_FEIN',\n",
       " 'LP_LEBENSPHASE_GROB',\n",
       " 'PRAEGENDE_JUGENDJAHRE',\n",
       " 'WOHNLAGE',\n",
       " 'CAMEO_INTL_2015',\n",
       " 'PLZ8_BAUMAX']"
      ]
     },
     "execution_count": 73,
     "metadata": {},
     "output_type": "execute_result"
    }
   ],
   "source": [
    "# List the \"mixed\" features in azdias dataset\n",
    "azdias_mixed_features"
   ]
  },
  {
   "cell_type": "code",
   "execution_count": 74,
   "metadata": {},
   "outputs": [],
   "source": [
    "# \"PRAEGENDE_JUGENDJAHRE_D\" will be the column for decade\n",
    "# Create a dictionary for the values. The choices are made based on the data dictionary file\n",
    "decade_dict = {1: 40, 2: 40, 3: 50, 4: 50, 5: 60, 6: 60, 7: 60, 8: 70, 9: 70, 10: 80, 11: 80, 12: 80, 13: 80, 14: 90, 15: 90}"
   ]
  },
  {
   "cell_type": "code",
   "execution_count": 75,
   "metadata": {},
   "outputs": [],
   "source": [
    "# \"PRAEGENDE_JUGENDJAHRE_M\" will be the binary column for movement\n",
    "# Create a dictionary for the values. The choices are made based on the data dictionary file\n",
    "# We choose 1 for maintream and 0 for avantgarde\n",
    "movement_dict = {1: 1, 2: 0, 3: 1, 4: 0, 5: 1, 6: 0, 7: 0, 8: 1, 9: 0, 10: 1, 11: 0, 12: 1, 13: 0, 14: 1, 15: 0}"
   ]
  },
  {
   "cell_type": "code",
   "execution_count": 76,
   "metadata": {},
   "outputs": [],
   "source": [
    "# Add a new column and fill NaN : 'PRAEGENDE_JUGENDJAHRE_D'\n",
    "df_azdias_below['PRAEGENDE_JUGENDJAHRE_D'] = np.nan"
   ]
  },
  {
   "cell_type": "code",
   "execution_count": 77,
   "metadata": {},
   "outputs": [],
   "source": [
    "# Define : We go through the current column and fill the new column according to the values we find, \n",
    "# and using the dictionary\n",
    "\n",
    "# Code: For each value in the current column, use the dictionary \n",
    "# to fill the new column.\n",
    "def engineer_praegende_d(row):\n",
    "    value = None\n",
    "    previous_value = row['PRAEGENDE_JUGENDJAHRE']\n",
    "    if previous_value in decade_dict:\n",
    "        value = decade_dict[previous_value]\n",
    "        \n",
    "    return value"
   ]
  },
  {
   "cell_type": "code",
   "execution_count": 78,
   "metadata": {},
   "outputs": [],
   "source": [
    "# Engineer the new decade column\n",
    "df_azdias_below['PRAEGENDE_JUGENDJAHRE_D'] = df_azdias_below.apply(engineer_praegende_d, axis=1)"
   ]
  },
  {
   "cell_type": "code",
   "execution_count": 79,
   "metadata": {},
   "outputs": [
    {
     "data": {
      "text/plain": [
       "array([ 90.,  70.,  50.,  80.,  60.,  nan,  40.])"
      ]
     },
     "execution_count": 79,
     "metadata": {},
     "output_type": "execute_result"
    }
   ],
   "source": [
    "# Visually check the new unique values\n",
    "df_azdias_below['PRAEGENDE_JUGENDJAHRE_D'].unique()"
   ]
  },
  {
   "cell_type": "code",
   "execution_count": 80,
   "metadata": {},
   "outputs": [],
   "source": [
    "# Add a new column and fill NaN : 'PRAEGENDE_JUGENDJAHRE_M'\n",
    "df_azdias_below['PRAEGENDE_JUGENDJAHRE_M'] = np.nan"
   ]
  },
  {
   "cell_type": "code",
   "execution_count": 81,
   "metadata": {},
   "outputs": [],
   "source": [
    "# Define : We go through the current column and fill the new column according to the values we find, \n",
    "# and using the dictionary\n",
    "\n",
    "# Code: For each value in the current column, use the dictionary - movement_dict\n",
    "# to fill the new column.\n",
    "def engineer_praegende_m(row):\n",
    "    value = None\n",
    "    previous_value = row['PRAEGENDE_JUGENDJAHRE']\n",
    "    if previous_value in movement_dict:\n",
    "        value = movement_dict[previous_value]\n",
    "        \n",
    "    return value"
   ]
  },
  {
   "cell_type": "code",
   "execution_count": 82,
   "metadata": {},
   "outputs": [],
   "source": [
    "# Engineer the new movement column\n",
    "df_azdias_below['PRAEGENDE_JUGENDJAHRE_M'] = df_azdias_below.apply(engineer_praegende_m, axis=1)"
   ]
  },
  {
   "cell_type": "code",
   "execution_count": 83,
   "metadata": {},
   "outputs": [
    {
     "data": {
      "text/plain": [
       "array([  1.,   0.,  nan])"
      ]
     },
     "execution_count": 83,
     "metadata": {},
     "output_type": "execute_result"
    }
   ],
   "source": [
    "# Visually check the new unique values\n",
    "df_azdias_below['PRAEGENDE_JUGENDJAHRE_M'].unique()"
   ]
  },
  {
   "cell_type": "code",
   "execution_count": 84,
   "metadata": {},
   "outputs": [],
   "source": [
    "# Delete the 'PRAEGENDE_JUGENDJAHRE' column, as not needed anymore\n",
    "df_azdias_below.drop('PRAEGENDE_JUGENDJAHRE', axis=1, inplace=True)"
   ]
  },
  {
   "cell_type": "code",
   "execution_count": 85,
   "metadata": {},
   "outputs": [],
   "source": [
    "# Add \"CAMEO_INTL_2015_W\" column for Wealth\n",
    "df_azdias_below['CAMEO_INTL_2015_W'] = np.nan"
   ]
  },
  {
   "cell_type": "code",
   "execution_count": 86,
   "metadata": {},
   "outputs": [],
   "source": [
    "# Fill the column\n",
    "# Define : extract the 'tens'-place raw value from the current one\n",
    "\n",
    "# Code: get the current value, calculate the 'ones'-place \n",
    "def engineer_cameo_w(row):\n",
    "    value = None\n",
    "    previous_value = row['CAMEO_INTL_2015']\n",
    "    if not(previous_value is np.nan):\n",
    "        value = int(previous_value) - (int(previous_value) % 10)\n",
    "        \n",
    "    return value"
   ]
  },
  {
   "cell_type": "code",
   "execution_count": 87,
   "metadata": {},
   "outputs": [],
   "source": [
    "# Engineer the new wealth column\n",
    "df_azdias_below['CAMEO_INTL_2015_W'] = df_azdias_below.apply(engineer_cameo_w, axis=1)"
   ]
  },
  {
   "cell_type": "code",
   "execution_count": 88,
   "metadata": {},
   "outputs": [
    {
     "data": {
      "text/plain": [
       "array([ 50.,  20.,  40.,  10.,  30.,  nan])"
      ]
     },
     "execution_count": 88,
     "metadata": {},
     "output_type": "execute_result"
    }
   ],
   "source": [
    "# Visually check the new unique values\n",
    "df_azdias_below['CAMEO_INTL_2015_W'].unique()"
   ]
  },
  {
   "cell_type": "code",
   "execution_count": 89,
   "metadata": {},
   "outputs": [],
   "source": [
    "# Add \"CAMEO_INTL_2015_LS\" column for Life Style\n",
    "df_azdias_below['CAMEO_INTL_2015_LS'] = np.nan"
   ]
  },
  {
   "cell_type": "code",
   "execution_count": 90,
   "metadata": {},
   "outputs": [],
   "source": [
    "# Fill the column\n",
    "# Define : extract the 'ones'-place raw value from the current one\n",
    "\n",
    "# Code: get the current value, calculate the 'ones'-place \n",
    "def engineer_cameo_ls(row):\n",
    "    value = None\n",
    "    previous_value = row['CAMEO_INTL_2015']\n",
    "    if not(previous_value is np.nan):\n",
    "        value = (int(previous_value) % 10)\n",
    "        \n",
    "    return value"
   ]
  },
  {
   "cell_type": "code",
   "execution_count": 91,
   "metadata": {},
   "outputs": [],
   "source": [
    "# Engineer the new life style column\n",
    "df_azdias_below['CAMEO_INTL_2015_LS'] = df_azdias_below.apply(engineer_cameo_ls, axis=1)"
   ]
  },
  {
   "cell_type": "code",
   "execution_count": 92,
   "metadata": {},
   "outputs": [
    {
     "data": {
      "text/plain": [
       "array([  1.,   4.,   3.,   2.,   5.,  nan])"
      ]
     },
     "execution_count": 92,
     "metadata": {},
     "output_type": "execute_result"
    }
   ],
   "source": [
    "# Visually check the new unique values\n",
    "df_azdias_below['CAMEO_INTL_2015_LS'].unique()"
   ]
  },
  {
   "cell_type": "code",
   "execution_count": 93,
   "metadata": {},
   "outputs": [],
   "source": [
    "# Delete the 'CAMEO_INTL_2015' column, as not needed anymore\n",
    "df_azdias_below.drop('CAMEO_INTL_2015', axis=1, inplace=True)"
   ]
  },
  {
   "cell_type": "markdown",
   "metadata": {},
   "source": [
    "#### Discussion 1.2.2: Engineer Mixed-Type Features\n",
    "\n",
    "> \"PRAEGENDE_JUGENDJAHRE\": converted to \"PRAEGENDE_JUGENDJAHRE_D\" as the column for decade, and \"PRAEGENDE_JUGENDJAHRE_M\" as the column for movement. Each of them has been populated based on a specific dictionary, and according to the information in Data_Dictionary.md.   \n",
    "> \"CAMEO_INTL_2015\": converted to 'CAMEO_INTL_2015_W' for Wealth and 'CAMEO_INTL_2015_LS' for lifestyle.   \n",
    "- 'CAMEO_INTL_2015_W': to calculate the 'tens'-place, we use x - (x %10)     \n",
    "- 'CAMEO_INTL_2015_LS': to calculate the 'ones'-place, we use x %10     \n",
    "At the end of each new features engineering, we deleted the previous column."
   ]
  },
  {
   "cell_type": "markdown",
   "metadata": {},
   "source": [
    "#### Step 1.2.3: Complete Feature Selection\n",
    "\n",
    "As a wrap-up for this step: we made sure that our data frame now only has the columns that we want to keep. To summarize, the dataframe consists of the following:\n",
    "- All numeric, interval, and ordinal type columns from the original dataset.\n",
    "- Binary categorical features (all numerically-encoded).\n",
    "- Engineered features from other multi-level categorical features and mixed features.\n",
    "\n",
    "For any new columns that we have engineered, we've excluded the original columns from the final dataset. Otherwise, their values will interfere with the analysis later on the project. "
   ]
  },
  {
   "cell_type": "markdown",
   "metadata": {},
   "source": [
    "#### Comment\n",
    "> `df_azdias_below` is the subset with few or no missing values. The old or original columns have been deleted during each of the previous engineering steps.  "
   ]
  },
  {
   "cell_type": "markdown",
   "metadata": {},
   "source": [
    "### Step 1.3: Create a Cleaning Function\n",
    "\n",
    "Looking ahead to the future, we'll need to perform the same cleaning steps on the customer demographics data. Here, we create the function below to execute the main feature selection, encoding, and re-engineering steps we performed above. "
   ]
  },
  {
   "cell_type": "code",
   "execution_count": 94,
   "metadata": {},
   "outputs": [],
   "source": [
    "def clean_data(df):\n",
    "    \"\"\"\n",
    "    Perform feature trimming, re-encoding, and engineering for demographics\n",
    "    data\n",
    "    \n",
    "    INPUT: Demographics DataFrame\n",
    "    OUTPUT: Trimmed and cleaned demographics DataFrame\n",
    "    \"\"\"\n",
    "    \n",
    "    # Put in code here to execute all main cleaning steps:\n",
    "    # convert missing value codes into NaNs, ...\n",
    "    df = missing_code_to_nan(df, feat_info)\n",
    "    \n",
    "    # remove selected columns \n",
    "    df.drop('ALTER_HH', axis=1, inplace=True)\n",
    "    df.drop('GEBURTSJAHR', axis=1, inplace=True)\n",
    "    df.drop('KBA05_BAUMAX', axis=1, inplace=True)\n",
    "    df.drop('KK_KUNDENTYP', axis=1, inplace=True)\n",
    "    df.drop('AGER_TYP', axis=1, inplace=True)\n",
    "    df.drop('TITEL_KZ', axis=1, inplace=True)\n",
    "    \n",
    "    # remove selected rows\n",
    "    # Get the missings on the rows\n",
    "    df_row_missing = pd.DataFrame(data=df.isnull().sum(axis=1))\n",
    "    df_row_missing.rename(columns={0: 'nb_of_missing'}, inplace=True)\n",
    "    # Merge the number of missing rows with the demographic dataset\n",
    "    df = df.merge(df_row_missing, left_index=True, right_index=True)\n",
    "    # get the rows with number of missing values <= 3\n",
    "    df = df.query('nb_of_missing <= 3').copy()\n",
    "    # remove the temporary columnn\n",
    "    df.drop('nb_of_missing', axis=1, inplace=True)\n",
    "    \n",
    "    # select, re-encode, and engineer column values.\n",
    "    # Re-encode OST_WEST_KZ\n",
    "    df['OST_WEST_KZ'] = df.apply(binary_to_numeric, axis=1)\n",
    "    # Remove 'CAMEO_DEU_2015' colum from the dataset\n",
    "    df.drop('CAMEO_DEU_2015', axis=1, inplace=True)\n",
    "    \n",
    "    # Re-encode categorical variable(s) to be kept in the analysis.\n",
    "    # We use azdias_categorical_features : prebuilt dictionary\n",
    "    # Code: For each column, we create the dummies, join them to the dataset and then delete the column\n",
    "    for column, level in azdias_categorical_features.items():\n",
    "        dummies_values = pd.get_dummies(df[column], prefix=column)\n",
    "        df = df.join(dummies_values)\n",
    "        #if(column == \"GEBAEUDETYP\"): print(dummies_values.columns.values) # debug: watch \n",
    "        df.drop(column, axis=1, inplace=True)\n",
    "    \n",
    "    # Engineer mixed-type features\n",
    "    # Add a new column and fill NaN : 'PRAEGENDE_JUGENDJAHRE_D'\n",
    "    df['PRAEGENDE_JUGENDJAHRE_D'] = np.nan\n",
    "    # Engineer the new decade column\n",
    "    df['PRAEGENDE_JUGENDJAHRE_D'] = df.apply(engineer_praegende_d, axis=1)\n",
    "    # Add a new column and fill NaN : 'PRAEGENDE_JUGENDJAHRE_M'\n",
    "    df['PRAEGENDE_JUGENDJAHRE_M'] = np.nan\n",
    "    # Engineer the new movement column\n",
    "    df['PRAEGENDE_JUGENDJAHRE_M'] = df.apply(engineer_praegende_m, axis=1)\n",
    "    # Delete the 'PRAEGENDE_JUGENDJAHRE' column, as not needed anymore\n",
    "    df.drop('PRAEGENDE_JUGENDJAHRE', axis=1, inplace=True)\n",
    "    \n",
    "    # Add \"CAMEO_INTL_2015_W\" column for Wealth\n",
    "    df['CAMEO_INTL_2015_W'] = np.nan\n",
    "    # Engineer the new wealth column\n",
    "    df['CAMEO_INTL_2015_W'] = df.apply(engineer_cameo_w, axis=1)\n",
    "    # Add \"CAMEO_INTL_2015_LS\" column for Life Style\n",
    "    df['CAMEO_INTL_2015_LS'] = np.nan\n",
    "    # Engineer the new life style column\n",
    "    df['CAMEO_INTL_2015_LS'] = df.apply(engineer_cameo_ls, axis=1)\n",
    "    # Delete the 'CAMEO_INTL_2015' column, as not needed anymore\n",
    "    df.drop('CAMEO_INTL_2015', axis=1, inplace=True)\n",
    "    \n",
    "    # Return the cleaned dataframe.\n",
    "    return df\n",
    "    "
   ]
  },
  {
   "cell_type": "markdown",
   "metadata": {},
   "source": [
    "## Step 2: Feature Transformation\n",
    "\n",
    "### Step 2.1: Apply Feature Scaling\n",
    "\n",
    "Before we apply dimensionality reduction techniques to the data, we need to perform feature scaling so that the principal component vectors are not influenced by the natural differences in scale for features. We check the following:\n",
    "\n",
    "- sklearn requires that data not have missing values in order for its estimators to work properly. So, before applying the scaler to your data, we make sure that we've cleaned the DataFrame of the remaining missing values. We choose to apply an [Imputer](http://scikit-learn.org/stable/modules/generated/sklearn.preprocessing.Imputer.html) to replace all missing values.    \n",
    "- For the actual scaling function, we use a [StandardScaler](http://scikit-learn.org/stable/modules/generated/sklearn.preprocessing.StandardScaler.html) instance, scaling each feature to mean 0 and standard deviation 1.   \n",
    "- For these classes, we make use of the `.fit_transform()` method to both fit a procedure to the data as well as apply the transformation to the data at the same time.    \n",
    "The idea is to apply what we do here to the customer demographics data towards the end of the project."
   ]
  },
  {
   "cell_type": "code",
   "execution_count": 95,
   "metadata": {},
   "outputs": [],
   "source": [
    "# 'GEBAEUDETYP' categorical variable does not have the same unique values on general population and customer data\n",
    "# So get_dummies does not generate the same number of columns\n",
    "# After investigation, the value 5.0 is missing in the customer data, \n",
    "# so the customer dataset will not contain the column 'GEBAEUDETYP_5.0'\n",
    "# customers['GEBAEUDETYP'].unique() !=  azdias['GEBAEUDETYP'].unique()\n",
    "# As a consequence we delete the column 'GEBAEUDETYP_5.0'\n",
    "df_azdias_below.drop('GEBAEUDETYP_5.0', axis=1, inplace=True)"
   ]
  },
  {
   "cell_type": "code",
   "execution_count": 96,
   "metadata": {
    "scrolled": true
   },
   "outputs": [
    {
     "name": "stdout",
     "output_type": "stream",
     "text": [
      "LP_LEBENSPHASE_FEIN : 2\n",
      "LP_LEBENSPHASE_GROB : 1\n",
      "W_KEIT_KIND_HH : 18077\n",
      "ANZ_HAUSHALTE_AKTIV : 2461\n",
      "ANZ_HH_TITEL : 557\n",
      "KONSUMNAEHE : 36\n",
      "BALLRAUM : 403\n",
      "EWDICHTE : 403\n",
      "INNENSTADT : 403\n",
      "GEBAEUDETYP_RASTER : 2\n",
      "KKK : 38326\n",
      "REGIOTYP : 38326\n",
      "KBA13_ANZAHL_PKW : 553\n",
      "ARBEIT : 3428\n",
      "ORTSGR_KLS9 : 3358\n",
      "RELAT_AB : 3428\n",
      "PRAEGENDE_JUGENDJAHRE_D : 6796\n",
      "PRAEGENDE_JUGENDJAHRE_M : 6796\n",
      "CAMEO_INTL_2015_W : 2639\n",
      "CAMEO_INTL_2015_LS : 2639\n"
     ]
    }
   ],
   "source": [
    "# How many missing values do we still have ?\n",
    "for column_name, nb_of_missing in df_azdias_below.isnull().sum().items():\n",
    "    if (nb_of_missing > 0):\n",
    "        print(column_name + \" : \" + str(nb_of_missing))"
   ]
  },
  {
   "cell_type": "code",
   "execution_count": 97,
   "metadata": {},
   "outputs": [],
   "source": [
    "# Create imputer \n",
    "imputer = Imputer()\n",
    "\n",
    "# apply it to the dataframe\n",
    "df_azdias_imputered = pd.DataFrame(imputer.fit_transform(df_azdias_below), columns = df_azdias_below.columns)"
   ]
  },
  {
   "cell_type": "code",
   "execution_count": 98,
   "metadata": {},
   "outputs": [],
   "source": [
    "# Check : do we still have missings ?\n",
    "for column_name, nb_of_missing in df_azdias_imputered.isnull().sum().items():\n",
    "    if (nb_of_missing > 0):\n",
    "        print(column_name + \" : \" + str(nb_of_missing))"
   ]
  },
  {
   "cell_type": "code",
   "execution_count": 99,
   "metadata": {},
   "outputs": [],
   "source": [
    "# Apply feature scaling - create scaler\n",
    "scaler = StandardScaler()\n",
    "\n",
    "# transform the dataframe\n",
    "df_azdias_scalered = scaler.fit_transform(df_azdias_imputered)"
   ]
  },
  {
   "cell_type": "code",
   "execution_count": 100,
   "metadata": {},
   "outputs": [],
   "source": [
    "# back to a dataframe \n",
    "df_azdias_scalered = pd.DataFrame(df_azdias_scalered)"
   ]
  },
  {
   "cell_type": "code",
   "execution_count": 101,
   "metadata": {},
   "outputs": [],
   "source": [
    "# Set the columns names back\n",
    "df_azdias_scalered.columns = df_azdias_below.columns"
   ]
  },
  {
   "cell_type": "markdown",
   "metadata": {},
   "source": [
    "### Discussion 2.1: Apply Feature Scaling\n",
    "> Missing data: we used Imputer() which is better than the alternative of missing values, even if we do not have that much missing values (regarding the dataset size). Please note that in the current version of sklearn, sklearn.preprocessing.Imputer is deprecated. It is still valid in the version we have here, so we use it. From the most recent version it is recommended to use SimpleImputer from sklearn.impute https://scikit-learn.org/stable/modules/impute.html   \n",
    "> We use a StandardScaler() instance as suggested, scaling each feature to mean 0 and standard deviation 1  \n"
   ]
  },
  {
   "cell_type": "markdown",
   "metadata": {},
   "source": [
    "### Step 2.2: Perform Dimensionality Reduction\n",
    "\n",
    "On the scaled data, we now apply dimensionality reduction techniques.\n",
    "\n",
    "- We use sklearn's [PCA](http://scikit-learn.org/stable/modules/generated/sklearn.decomposition.PCA.html) class to apply principal component analysis on the data, thus finding the vectors of maximal variance in the data. To start, we do not set any parameters (so all components are computed) so there's enough features to see the general trend in variability.\n",
    "- Check out the ratio of variance explained by each principal component as well as the cumulative variance explained. Then, we plot the cumulative or sequential values. Based on what we find, we select a value for the number of transformed features we'll retain for the clustering part of the project."
   ]
  },
  {
   "cell_type": "code",
   "execution_count": 102,
   "metadata": {},
   "outputs": [
    {
     "data": {
      "text/plain": [
       "(684502, 151)"
      ]
     },
     "execution_count": 102,
     "metadata": {},
     "output_type": "execute_result"
    }
   ],
   "source": [
    "# remind our dataset size\n",
    "df_azdias_scalered.shape"
   ]
  },
  {
   "cell_type": "code",
   "execution_count": 103,
   "metadata": {},
   "outputs": [],
   "source": [
    "# create PCA - without any parameters, so all componets are computed\n",
    "pca = PCA()\n",
    "\n",
    "# Apply PCA to the data\n",
    "df_check_pca = pca.fit_transform(df_azdias_scalered)"
   ]
  },
  {
   "cell_type": "code",
   "execution_count": 104,
   "metadata": {},
   "outputs": [],
   "source": [
    "# Create a dataframe with the ratio of variance for each components\n",
    "explore_pca = pd.DataFrame(data=pca.explained_variance_ratio_)"
   ]
  },
  {
   "cell_type": "code",
   "execution_count": 105,
   "metadata": {},
   "outputs": [],
   "source": [
    "# Utility function to plot and observe the cumulative variance \n",
    "# Obtained from helper_functions.py\n",
    "def scree_plot(pca):\n",
    "    '''\n",
    "    Creates a scree plot associated with the principal components \n",
    "    \n",
    "    INPUT: pca - the result of instantian of PCA in scikit learn\n",
    "            \n",
    "    OUTPUT:\n",
    "            None\n",
    "    '''\n",
    "    num_components=len(pca.explained_variance_ratio_)\n",
    "    ind = np.arange(num_components)\n",
    "    vals = pca.explained_variance_ratio_\n",
    " \n",
    "    plt.figure(figsize=(18, 10))\n",
    "    ax = plt.subplot(111)\n",
    "    cumvals = np.cumsum(vals)\n",
    "    ax.bar(ind, vals)\n",
    "    ax.plot(ind, cumvals)\n",
    "    # Show variance % only when we have a few number of components\n",
    "    if (num_components < 40):\n",
    "        for i in range(num_components):\n",
    "            ax.annotate(r\"%s%%\" % ((str(vals[i]*100)[:4])), (ind[i]+0.2, vals[i]), va=\"bottom\", ha=\"center\", fontsize=8)\n",
    " \n",
    "    ax.xaxis.set_tick_params(width=0)\n",
    "    ax.yaxis.set_tick_params(width=2, length=12)\n",
    " \n",
    "    ax.set_xlabel(\"Principal Component\")\n",
    "    ax.set_ylabel(\"Variance Explained (%)\")\n",
    "    plt.title('Explained Variance Per Principal Component')"
   ]
  },
  {
   "cell_type": "code",
   "execution_count": 106,
   "metadata": {},
   "outputs": [
    {
     "data": {
      "image/png": "[encoded data removed]",
      "text/plain": [
       "<matplotlib.figure.Figure at 0x7fa31aa365c0>"
      ]
     },
     "metadata": {
      "needs_background": "light"
     },
     "output_type": "display_data"
    }
   ],
   "source": [
    "# Observe the variance\n",
    "scree_plot(pca)"
   ]
  },
  {
   "cell_type": "code",
   "execution_count": 107,
   "metadata": {},
   "outputs": [],
   "source": [
    "# We retain 35 for the number of transformed features\n",
    "\n",
    "# Re-fit the PCA\n",
    "pca = PCA(35)\n",
    "\n",
    "# Apply PCA to the data\n",
    "df_azdias_pca = pca.fit_transform(df_azdias_scalered)"
   ]
  },
  {
   "cell_type": "code",
   "execution_count": 108,
   "metadata": {},
   "outputs": [
    {
     "data": {
      "image/png": "[encoded data removed]",
      "text/plain": [
       "<matplotlib.figure.Figure at 0x7fa31a980940>"
      ]
     },
     "metadata": {
      "needs_background": "light"
     },
     "output_type": "display_data"
    }
   ],
   "source": [
    "# Observe the variance\n",
    "scree_plot(pca)"
   ]
  },
  {
   "cell_type": "code",
   "execution_count": 109,
   "metadata": {},
   "outputs": [
    {
     "data": {
      "text/plain": [
       "0.63196018590365222"
      ]
     },
     "execution_count": 109,
     "metadata": {},
     "output_type": "execute_result"
    }
   ],
   "source": [
    "# The variance we got\n",
    "pca.explained_variance_ratio_.sum()"
   ]
  },
  {
   "cell_type": "markdown",
   "metadata": {},
   "source": [
    "### Discussion 2.2: Perform Dimensionality Reduction\n",
    "> PCA Application without any parameters, so all the 152 components are computed: visually, we came out with a number of components around 30, meaning roughtly 60% for the total variance. Then we re-fit the PCA successively with 30, 35 and 40 as number of components, which led us - for the variance - to 59%, 63% and 66% respectively. We decided to stay at 35 components. Indeed, starting from 30 components, the variance trend is stalling until 60, then decreases till 75. So either we stay around 30, or we choose between 60 and 75 components.    \n",
    "> We made the choice of 35 components.   \n"
   ]
  },
  {
   "cell_type": "markdown",
   "metadata": {},
   "source": [
    "### Step 2.3: Interpret Principal Components\n",
    "\n",
    "Now that we have our transformed principal components, it's a nice idea to check out the weight of each variable on the first few components to see if they can be interpreted in some fashion.\n",
    "\n",
    "The principle: each principal component is a unit vector that points in the direction of highest variance (after accounting for the variance captured by earlier principal components). The further a weight is from zero, the more the principal component is in the direction of the corresponding feature. If two features have large weights of the same sign (both positive or both negative), then increases in one tend expect to be associated with increases in the other. To contrast, features with different signs can be expected to show a negative correlation: increases in one variable should result in a decrease in the other.\n",
    "\n",
    "- To investigate the features, we map each weight to their corresponding feature name, then sort the features according to weight. The most interesting features for each principal component, then, will be those at the beginning and end of the sorted list. We use the data dictionary document to understand these most prominent features, their relationships, and what a positive or negative value on the principal component might indicate.\n",
    "- We investigate and interpret feature associations from the first three principal components in this substep. To help facilitate this, we write a function that we can call at any time to print the sorted list of feature weights, for the *i*-th principal component. "
   ]
  },
  {
   "cell_type": "code",
   "execution_count": 110,
   "metadata": {},
   "outputs": [],
   "source": [
    "# The following is based on \"pca_results\" function from helper_functions.py\n",
    "# Map weights of the components for corresponding features\n",
    "# Assciate the linked values, sorted by weight.\n",
    "def show_feature_weights(df_azdias_scalered, pca, indice):\n",
    "    # Dimension indexing\n",
    "    dimensions = dimensions = ['Component-{}'.format(i) for i in range(1,len(pca.components_)+1)]\n",
    "    # PCA components\n",
    "    components = pd.DataFrame(np.round(pca.components_, 4), columns = df_azdias_scalered.keys())\n",
    "    components.index = dimensions\n",
    "\n",
    "    # PCA explained variance\n",
    "    ratios = pca.explained_variance_ratio_.reshape(len(pca.components_), 1)\n",
    "    variance_ratios = pd.DataFrame(np.round(ratios, 4), columns = ['Explained Variance'])\n",
    "    variance_ratios.index = dimensions\n",
    "    \n",
    "    # Create the feature weights and mapping dataframe\n",
    "    feature_weights = pd.concat([variance_ratios, components], axis = 1)\n",
    "    \n",
    "    # Build the line name\n",
    "    component_name = \"Component-\" + str(indice)\n",
    "    \n",
    "    return feature_weights.loc[component_name].sort_values()"
   ]
  },
  {
   "cell_type": "code",
   "execution_count": 111,
   "metadata": {
    "scrolled": true
   },
   "outputs": [
    {
     "name": "stdout",
     "output_type": "stream",
     "text": [
      "MOBI_REGIO          -0.2020\n",
      "KBA05_ANTG1         -0.1888\n",
      "FINANZ_MINIMALIST   -0.1865\n",
      "Name: Component-1, dtype: float64\n"
     ]
    },
    {
     "data": {
      "text/plain": [
       "PLZ8_ANTG3            0.1783\n",
       "HH_EINKOMMEN_SCORE    0.1796\n",
       "LP_STATUS_GROB_1.0    0.1904\n",
       "Name: Component-1, dtype: float64"
      ]
     },
     "execution_count": 111,
     "metadata": {},
     "output_type": "execute_result"
    }
   ],
   "source": [
    "# Get the 1st principal component.\n",
    "# Print the most interesting features: 3 at the begining, 3 at the end \n",
    "print(show_feature_weights(df_azdias_scalered, pca, 1)[:3])\n",
    "show_feature_weights(df_azdias_scalered, pca, 1)[-3:]"
   ]
  },
  {
   "cell_type": "code",
   "execution_count": 112,
   "metadata": {},
   "outputs": [
    {
     "name": "stdout",
     "output_type": "stream",
     "text": [
      "PRAEGENDE_JUGENDJAHRE_D   -0.2347\n",
      "FINANZ_SPARER             -0.2258\n",
      "SEMIO_REL                 -0.2217\n",
      "Name: Component-2, dtype: float64\n"
     ]
    },
    {
     "data": {
      "text/plain": [
       "PLZ8_ANTG3            0.1783\n",
       "HH_EINKOMMEN_SCORE    0.1796\n",
       "LP_STATUS_GROB_1.0    0.1904\n",
       "Name: Component-1, dtype: float64"
      ]
     },
     "execution_count": 112,
     "metadata": {},
     "output_type": "execute_result"
    }
   ],
   "source": [
    "# Get the 2nt principal component.\n",
    "# Print the most interesting features: 3 at the begining, 3 at the end \n",
    "print(show_feature_weights(df_azdias_scalered, pca, 2)[:3])\n",
    "show_feature_weights(df_azdias_scalered, pca, 1)[-3:]"
   ]
  },
  {
   "cell_type": "code",
   "execution_count": 113,
   "metadata": {},
   "outputs": [
    {
     "name": "stdout",
     "output_type": "stream",
     "text": [
      "ANREDE_KZ    -0.3388\n",
      "SEMIO_KAEM   -0.3070\n",
      "SEMIO_DOM    -0.2732\n",
      "Name: Component-3, dtype: float64\n"
     ]
    },
    {
     "data": {
      "text/plain": [
       "PLZ8_ANTG3            0.1783\n",
       "HH_EINKOMMEN_SCORE    0.1796\n",
       "LP_STATUS_GROB_1.0    0.1904\n",
       "Name: Component-1, dtype: float64"
      ]
     },
     "execution_count": 113,
     "metadata": {},
     "output_type": "execute_result"
    }
   ],
   "source": [
    "# Get the 3rd principal component.\n",
    "# Print the most interesting features: 3 at the begining, 3 at the end \n",
    "print(show_feature_weights(df_azdias_scalered, pca, 3)[:3])\n",
    "show_feature_weights(df_azdias_scalered, pca, 1)[-3:]"
   ]
  },
  {
   "cell_type": "markdown",
   "metadata": {},
   "source": [
    "### Discussion 2.3: Interpret Principal Components\n",
    "> `Component-1`: 10.5% variance    \n",
    "The largest weight of this component is related to LP_STATUS_GROB_1.0 which expresses the social status, rough scale. This component also positively weights PLZ8_ANTG3 (Number of 6-10 family houses in the PLZ8 region) and HH_EINKOMMEN_SCORE (estimated household net income). So increasing the social status for example tend to be associated with an increase of the number of family houses in the PLZ8 region and the estimated household net income. It all make sense. The component is positively influenced by those features, but on the other side is negatively influenced by MOBI_REGIO (Movement patterns), KBA05_ANTG1 (Number of 1-2 family houses in the microcell) and FINANZ_MINIMALIST (Financial typology). Indeed, an increase of one of those features move the others in the same direction, this is all we can at this stage of the analysis. We consider the correlation between those 3 features as an information, which might be useful for the next steps.\n",
    "\n",
    "> `Component-2`: 7.53% variance   \n",
    "It has the same largets weight as `component-1`. It is negatively influenced by PRAEGENDE_JUGENDJAHRE_D (dominating movement of person's youth, especially decade), FINANZ_SPARER (financial typology) and SEMIO_REL (personality typology). They have very similar negative values, even if it is not that obvious, we can assume that they are related.\n",
    "\n",
    "> `Component-3`: 4.56% variance\n",
    "It has the same largets weight as `component-1`. It is negatively influenced by ANREDE_KZ (gender), SEMIO_KAEM (personality typology) and SEMIO_DOM (which also personality typology). So the gender and the personality typologie are related and moving in the same direction.\n",
    "\n",
    "\n",
    "> Those 3 components (with highest variances) are all positively impacted by PLZ8_ANTG3 (Number of 6-10 family houses in the PLZ8 region), HH_EINKOMMEN_SCORE (estimated household net income) and LP_STATUS_GROB_1.0 which expresses the social status, rough scale. At this stage of our analysis, there seems to be the main features.\n"
   ]
  },
  {
   "cell_type": "markdown",
   "metadata": {},
   "source": [
    "## Step 3: Clustering\n",
    "\n",
    "### Step 3.1: Apply Clustering to General Population\n",
    "\n",
    "We've assessed and cleaned the demographics data, then scaled and transformed them. Now, it's time to see how the data clusters in the principal components space. In this substep, we apply k-means clustering to the dataset and use the average within-cluster distances from each point to their assigned cluster's centroid to decide on a number of clusters to keep.\n",
    "\n",
    "- We use sklearn's [KMeans](http://scikit-learn.org/stable/modules/generated/sklearn.cluster.KMeans.html#sklearn.cluster.KMeans) class to perform k-means clustering on the PCA-transformed data.\n",
    "- Then, compute the average difference from each point to its assigned cluster's center. \n",
    "- Perform the above two steps for a number of different cluster counts. We then see how the average distance decreases with an increasing number of clusters. However, each additional cluster provides a smaller net benefit. We use this fact to select a final number of clusters in which to group the data.    \n",
    "- Once we've selected a final number of clusters to use, we re-fit a KMeans instance to perform the clustering operation. "
   ]
  },
  {
   "cell_type": "code",
   "execution_count": 114,
   "metadata": {},
   "outputs": [],
   "source": [
    "# Get the PCA-transformed data\n",
    "df_azdias_pca = pd.DataFrame(df_azdias_pca)"
   ]
  },
  {
   "cell_type": "code",
   "execution_count": 115,
   "metadata": {},
   "outputs": [],
   "source": [
    "# Obtain the score for each model\n",
    "def kmeans_score(data, center):\n",
    "    # Instantiate kmeans\n",
    "    kmeans = KMeans(n_clusters = center)\n",
    "    # Fit the model to the data\n",
    "    model = kmeans.fit(data)\n",
    "    # Get the score\n",
    "    score = np.abs(model.score(data))\n",
    "    return score"
   ]
  },
  {
   "cell_type": "code",
   "execution_count": 116,
   "metadata": {
    "scrolled": true
   },
   "outputs": [],
   "source": [
    "# Explore clusters with a defined number of centers\n",
    "def explore_clusters(data, centers):\n",
    "    scores = []\n",
    "    \n",
    "    for a_center in centers:\n",
    "        scores.append(kmeans_score(data, a_center))\n",
    "    \n",
    "    plt.figure(figsize=(16, 9))\n",
    "    plt.plot(centers, scores, linestyle='--', marker='o', color='b');\n",
    "    plt.xlabel('K');\n",
    "    plt.ylabel('SSE');\n",
    "    plt.title('SSE vs. K');\n",
    "    \n",
    "    return"
   ]
  },
  {
   "cell_type": "code",
   "execution_count": 117,
   "metadata": {},
   "outputs": [
    {
     "data": {
      "image/png": "[encoded data removed]",
      "text/plain": [
       "<matplotlib.figure.Figure at 0x7fa31a9b35f8>"
      ]
     },
     "metadata": {
      "needs_background": "light"
     },
     "output_type": "display_data"
    }
   ],
   "source": [
    "# Now explore the clusters on the PCA-transformed data\n",
    "explore_clusters(df_azdias_pca, list(range(10, 30)))"
   ]
  },
  {
   "cell_type": "code",
   "execution_count": 118,
   "metadata": {},
   "outputs": [],
   "source": [
    "# Re-fit the k-means model with the selected number of clusters and obtain\n",
    "# cluster predictions for the general population demographics data.\n",
    "kmeans_selected = KMeans(25)"
   ]
  },
  {
   "cell_type": "code",
   "execution_count": 119,
   "metadata": {},
   "outputs": [],
   "source": [
    "# Fit the model to the data\n",
    "model = kmeans_selected.fit(df_azdias_pca)"
   ]
  },
  {
   "cell_type": "code",
   "execution_count": 120,
   "metadata": {},
   "outputs": [],
   "source": [
    "# Predict to show the categories belonging\n",
    "labels = model.predict(df_azdias_pca)"
   ]
  },
  {
   "cell_type": "markdown",
   "metadata": {},
   "source": [
    "### Discussion 3.1: Apply Clustering to General Population\n",
    "\n",
    "> We've decided to segment the population into 25 clusters.   \n",
    "Based on the visualization above, the strong leveling off we might have after 25 clusters is not obvious. In fact there is no real leveling off. But as the graph is still decreasing anyway, we consider a potential leveling off after the last number of clusters we have here, so we choose the last one."
   ]
  },
  {
   "cell_type": "markdown",
   "metadata": {},
   "source": [
    "### Step 3.2: Apply All Steps to the Customer Data\n",
    "\n",
    "Now that we have clusters and cluster centers for the general population, it's time to see how the customer data maps on to those clusters.    \n",
    "Here, we do not re-fit all of the models to the customer data. Instead, we're going to use the fits from the general population to clean, transform, and cluster the customer data. In the last step of the project, we will interpret how the general population fits apply to the customer data.\n",
    "\n",
    "- We apply the same feature wrangling, selection, and engineering steps to the customer demographics using the `clean_data()` function we created earlier. We assume that the customer demographics data has similar meaning behind missing data patterns as the general demographics data.\n",
    "- We use the sklearn objects from the general demographics data, and apply their transformations to the customers data. That is, we will not be using a `.fit()` or `.fit_transform()` method to re-fit the old objects, nor will we be creating new sklearn objects! We carry the data through the feature scaling, PCA, and clustering steps, obtaining cluster assignments for all of the data in the customer demographics data."
   ]
  },
  {
   "cell_type": "code",
   "execution_count": 121,
   "metadata": {},
   "outputs": [],
   "source": [
    "# Load in the customer demographics data.\n",
    "customers = pd.read_csv('Udacity_CUSTOMERS_Subset.csv', sep=\";\")"
   ]
  },
  {
   "cell_type": "code",
   "execution_count": 122,
   "metadata": {},
   "outputs": [],
   "source": [
    "# Clean data\n",
    "customers = clean_data(customers)"
   ]
  },
  {
   "cell_type": "code",
   "execution_count": 123,
   "metadata": {},
   "outputs": [],
   "source": [
    "# apply the imputer\n",
    "customers_imputered = pd.DataFrame(imputer.fit_transform(customers), columns = customers.columns)"
   ]
  },
  {
   "cell_type": "code",
   "execution_count": 124,
   "metadata": {},
   "outputs": [],
   "source": [
    "# Use our scaler\n",
    "customers_scalered = scaler.fit_transform(customers_imputered)"
   ]
  },
  {
   "cell_type": "code",
   "execution_count": 125,
   "metadata": {},
   "outputs": [],
   "source": [
    "# back to a dataframe \n",
    "customers_scalered = pd.DataFrame(customers_scalered, columns = customers.columns)"
   ]
  },
  {
   "cell_type": "code",
   "execution_count": 126,
   "metadata": {},
   "outputs": [],
   "source": [
    "# Use the pca\n",
    "customers_pca = pca.transform(customers_scalered)"
   ]
  },
  {
   "cell_type": "code",
   "execution_count": 127,
   "metadata": {},
   "outputs": [],
   "source": [
    "# Obtain clusters predictions\n",
    "customers_labels = model.predict(customers_pca)"
   ]
  },
  {
   "cell_type": "markdown",
   "metadata": {},
   "source": [
    "### Step 3.3: Compare Customer Data to Demographics Data\n",
    "\n",
    "At this point, we have clustered data based on demographics of the general population of Germany, and seen how the customer data for a mail-order sales company maps onto those demographic clusters. In this final substep, we will compare the two cluster distributions to see where the strongest customer base for the company is.\n",
    "\n",
    "We consider the proportion of persons in each cluster for the general population, and the proportions for the customers. If we think the company's customer base to be universal, then the cluster assignment proportions should be fairly similar between the two. If there are only particular segments of the population that are interested in the company's products, then we should see a mismatch from one to the other. If there is a higher proportion of persons in a cluster for the customer data compared to the general population (e.g. 5% of persons are assigned to a cluster for the general population, but 15% of the customer data is closest to that cluster's centroid) then that suggests the people in that cluster to be a target audience for the company. On the other hand, the proportion of the data in a cluster being larger in the general population than the customer data (e.g. only 2% of customers closest to a population centroid that captures 6% of the data) suggests that group of persons to be outside of the target demographics.\n",
    "\n",
    "We take a look at the following points in this step:\n",
    "\n",
    "- Compute the proportion of data points in each cluster for the general population and the customer data. Visualizations: both for the individual dataset proportions, but also to visualize the ratios in cluster representation between groups. \n",
    "  - We recall the analysis performed in step 1.1.3 of the project, where we separated out certain data points from the dataset if they had more than a specified threshold of missing values. If we found that this group was qualitatively different from the main bulk of the data, we should treat this as an additional data cluster in this analysis. Indeed, we make sure that we account for the number of data points in this subset, for both the general population and customer datasets, when making the computations\n",
    "- Which cluster or clusters are overrepresented in the customer dataset compared to the general population? we select at least one such cluster and infer what kind of people might be represented by that cluster. we use the principal component interpretations from step 2.3 or look at additional components to help you make this inference. Alternatively, we use the `.inverse_transform()` method of the PCA and StandardScaler objects to transform centroids back to the original data space and interpret the retrieved values directly.\n",
    "- We perform a similar investigation for the underrepresented clusters. Which cluster or clusters are underrepresented in the customer dataset compared to the general population, and what kinds of people are typified by these clusters?"
   ]
  },
  {
   "cell_type": "code",
   "execution_count": 140,
   "metadata": {},
   "outputs": [
    {
     "data": {
      "image/png": "[encoded data removed]",
      "text/plain": [
       "<matplotlib.figure.Figure at 0x7fa31ad29cc0>"
      ]
     },
     "metadata": {
      "needs_background": "light"
     },
     "output_type": "display_data"
    }
   ],
   "source": [
    "# Compare the proportion of data in each cluster for the customer data to the\n",
    "# proportion of data in each cluster for the general population.\n",
    "\n",
    "fig = plt.figure(figsize = [16, 6])\n",
    "\n",
    "# Prediction for the general population\n",
    "fig.add_subplot(2, 1, 1)\n",
    "general_centers = sns.countplot(labels)\n",
    "general_centers.set(title='Proportion of data points in each cluster', \n",
    "                    xlabel='Demographics data clusters', \n",
    "                    ylabel='Occurence of data points')\n",
    "\n",
    "# Prediction for the customers data\n",
    "fig.add_subplot(2, 1, 2)\n",
    "customers_centers = sns.countplot(customers_labels)\n",
    "customers_centers.set(title='Proportion of data points in each cluster', \n",
    "                      xlabel='Customer data clusters', \n",
    "                      ylabel='Occurence of data points')\n",
    "fig.tight_layout();"
   ]
  },
  {
   "cell_type": "code",
   "execution_count": 143,
   "metadata": {},
   "outputs": [],
   "source": [
    "# back to the original data space - customers\n",
    "# inverse pca\n",
    "inverse_pca = pca.inverse_transform(model.cluster_centers_)"
   ]
  },
  {
   "cell_type": "code",
   "execution_count": 144,
   "metadata": {},
   "outputs": [],
   "source": [
    "# inverse scaler\n",
    "inverse_scaler = scaler.inverse_transform(inverse_pca)"
   ]
  },
  {
   "cell_type": "code",
   "execution_count": 146,
   "metadata": {},
   "outputs": [],
   "source": [
    "# Reconstruct data\n",
    "reconstructed_data = pd.DataFrame(inverse_scaler, columns=df_azdias_below.columns)"
   ]
  },
  {
   "cell_type": "markdown",
   "metadata": {},
   "source": [
    "Sources to understand the way to reconstruct :   \n",
    "- https://stats.stackexchange.com/questions/229092/how-to-reverse-pca-and-reconstruct-original-variables-from-several-principal-com\n",
    "- https://stackoverflow.com/questions/49885007/how-to-use-scikit-learn-inverse-transform-with-new-values   \n",
    "- https://scikit-learn.org/stable/modules/generated/sklearn.preprocessing.StandardScaler.html#sklearn.preprocessing.StandardScaler.inverse_transform   "
   ]
  },
  {
   "cell_type": "code",
   "execution_count": 157,
   "metadata": {},
   "outputs": [
    {
     "data": {
      "text/plain": [
       "CAMEO_INTL_2015_W            14.364775\n",
       "LP_LEBENSPHASE_FEIN          23.828994\n",
       "PRAEGENDE_JUGENDJAHRE_D      50.342715\n",
       "KBA13_ANZAHL_PKW            730.333593\n",
       "MIN_GEBAEUDEJAHR           1992.459458\n",
       "Name: 3, dtype: float64"
      ]
     },
     "execution_count": 157,
     "metadata": {},
     "output_type": "execute_result"
    }
   ],
   "source": [
    "# Get overrepresented cluster from customers : cluster 3 - top 5\n",
    "reconstructed_data.loc[3].sort_values().tail()"
   ]
  },
  {
   "cell_type": "code",
   "execution_count": 158,
   "metadata": {},
   "outputs": [
    {
     "data": {
      "text/plain": [
       "CAMEO_INTL_2015_W            17.817134\n",
       "LP_LEBENSPHASE_FEIN          44.829981\n",
       "PRAEGENDE_JUGENDJAHRE_D      55.749828\n",
       "KBA13_ANZAHL_PKW            694.337977\n",
       "MIN_GEBAEUDEJAHR           1993.182177\n",
       "Name: 13, dtype: float64"
      ]
     },
     "execution_count": 158,
     "metadata": {},
     "output_type": "execute_result"
    }
   ],
   "source": [
    "# Get overrepresented cluster from customers : cluster 13 - top 5\n",
    "reconstructed_data.loc[13].sort_values().tail()"
   ]
  },
  {
   "cell_type": "code",
   "execution_count": 159,
   "metadata": {},
   "outputs": [
    {
     "data": {
      "text/plain": [
       "CAMEO_INTL_2015_W            14.316278\n",
       "LP_LEBENSPHASE_FEIN          45.641969\n",
       "PRAEGENDE_JUGENDJAHRE_D      58.481583\n",
       "KBA13_ANZAHL_PKW            753.403268\n",
       "MIN_GEBAEUDEJAHR           1992.590963\n",
       "Name: 20, dtype: float64"
      ]
     },
     "execution_count": 159,
     "metadata": {},
     "output_type": "execute_result"
    }
   ],
   "source": [
    "# Get overrepresented cluster from customers : cluster 20 - top 5\n",
    "reconstructed_data.loc[20].sort_values().tail()"
   ]
  },
  {
   "cell_type": "code",
   "execution_count": 160,
   "metadata": {},
   "outputs": [
    {
     "data": {
      "text/plain": [
       "LP_LEBENSPHASE_FEIN          11.769569\n",
       "CAMEO_INTL_2015_W            37.888154\n",
       "PRAEGENDE_JUGENDJAHRE_D      72.624737\n",
       "KBA13_ANZAHL_PKW            551.005848\n",
       "MIN_GEBAEUDEJAHR           1992.336827\n",
       "Name: 4, dtype: float64"
      ]
     },
     "execution_count": 160,
     "metadata": {},
     "output_type": "execute_result"
    }
   ],
   "source": [
    "# Get underrepresented cluster from customers : cluster 4 - top 5\n",
    "reconstructed_data.loc[4].sort_values().tail()"
   ]
  },
  {
   "cell_type": "markdown",
   "metadata": {},
   "source": [
    "### Discussion 3.3: Compare Customer Data to Demographics Data\n",
    "\n",
    "The main questions are : can we describe segments of the population that are relatively popular with the mail-order company, or relatively unpopular with the company?   \n",
    "\n",
    "- The overrepresented clusters in the customers dataset are the clusters 3, 13 and 20.   \n",
    "The observation of the top 5 features of those people reveals the same features which are MIN_GEBAEUDEJAHR (First year building was mentioned in the database), KBA13_ANZAHL_PKW (Number of cars in the PLZ8 region), PRAEGENDE_JUGENDJAHRE_D (Dominating movement of person's youth - decades), LP_LEBENSPHASE_FEIN (Life stage, fine scale) and CAMEO_INTL_2015_W (German CAMEO: Wealth typology).   \n",
    "- The underrepresented clusters in the customers dataset, compared to the general population, are the clusters 4, 6, 10, 12. For the clsuter 4 for example, we have also MIN_GEBAEUDEJAHR (First year building was mentioned in the database), KBA13_ANZAHL_PKW (Number of cars in the PLZ8 region), PRAEGENDE_JUGENDJAHRE_D (Dominating movement of person's youth - decades), LP_LEBENSPHASE_FEIN (Life stage, fine scale) and CAMEO_INTL_2015_W (German CAMEO: Wealth typology).   \n",
    "\n",
    "- The cluster assignement proportions are not really similar between the company's customer base and the demographics data. So the company's customer base is not universal. Because of those mismatch, there are only particular segments of the population that are interested in the company's products.\n",
    "- Do we have higher proportion of persons in a cluster for the customer data compared to the general population ? In reality, No, based on the visuals. So it would mean that there are no people in the customer clusters who could be a target audience for the company. Basically it suggests that the people we are looking for here are outside the target demographics.\n",
    "- It might suggest that the distributions we identified as differents (FINANZ_SPARER - money saver from very high to low and SEMIO_VERT - dreamful personality, from lowest to highest affinity) earlier at the point 1.1.3, are the ones with the target demographics."
   ]
  },
  {
   "cell_type": "code",
   "execution_count": 161,
   "metadata": {},
   "outputs": [
    {
     "data": {
      "text/plain": [
       "0"
      ]
     },
     "execution_count": 161,
     "metadata": {},
     "output_type": "execute_result"
    }
   ],
   "source": [
    "from subprocess import call\n",
    "call(['python', '-m', 'nbconvert', 'Identify_Customer_Segments.ipynb'])"
   ]
  },
  {
   "cell_type": "code",
   "execution_count": null,
   "metadata": {},
   "outputs": [],
   "source": []
  }
 ],
 "metadata": {
  "kernelspec": {
   "display_name": "Python 3",
   "language": "python",
   "name": "python3"
  },
  "language_info": {
   "codemirror_mode": {
    "name": "ipython",
    "version": 3
   },
   "file_extension": ".py",
   "mimetype": "text/x-python",
   "name": "python",
   "nbconvert_exporter": "python",
   "pygments_lexer": "ipython3",
   "version": "3.6.8"
  }
 },
 "nbformat": 4,
 "nbformat_minor": 2
}
